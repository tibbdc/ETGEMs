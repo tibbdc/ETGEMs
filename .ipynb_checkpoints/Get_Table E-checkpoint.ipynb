{
 "cells": [
  {
   "cell_type": "markdown",
   "metadata": {},
   "source": [
    "# Module import"
   ]
  },
  {
   "cell_type": "code",
   "execution_count": 1,
   "metadata": {},
   "outputs": [],
   "source": [
    "from ETGEMs_function import *"
   ]
  },
  {
   "cell_type": "markdown",
   "metadata": {},
   "source": [
    "# Data initialization"
   ]
  },
  {
   "cell_type": "code",
   "execution_count": 2,
   "metadata": {},
   "outputs": [],
   "source": [
    "import pandas as pd\n",
    "import cobra\n",
    "#Get Reaction G0 from local file\n",
    "reaction_g0_file='./Basic Data/reaction_g0.txt'\n",
    "#Get Metabolite concentration from local file\n",
    "metabolites_lnC_file = './Basic Data/metabolites_lnC.txt'\n",
    "#Get Model from local file\n",
    "model_file='./Basic Data/iML1515.xml'\n",
    "#Get reaction kcat data from ECMpy\n",
    "reaction_kcat_MW_file='./Basic Data/ID_kcat_MW_file.csv'\n",
    "\n",
    "Concretemodel_Need_Data=Get_Concretemodel_Need_Data(reaction_g0_file,metabolites_lnC_file,model_file,reaction_kcat_MW_file)"
   ]
  },
  {
   "cell_type": "markdown",
   "metadata": {},
   "source": [
    "# Data output files"
   ]
  },
  {
   "cell_type": "code",
   "execution_count": 3,
   "metadata": {},
   "outputs": [],
   "source": [
    "max_min_Df_for_specific_reaction_file='./Analysis Result/max_min_Df_complete_for_specific_reaction.csv'\n",
    "max_min_concentration_for_specific_metabolite_file='./Analysis Result/max_min_concentration_for_specific_metabolite.csv'\n",
    "max_min_E_file='./Analysis Result/max_min_E.csv'"
   ]
  },
  {
   "cell_type": "markdown",
   "metadata": {},
   "source": [
    "# 1.MDF calculation\n",
    "Preset a lower growth rate, for example, when set \"biomass_value = 0.3\", and then get an MDF value (2.667); when set \"biomass_value = 0.7074\", and then get an MDF value (-14.571)."
   ]
  },
  {
   "cell_type": "code",
   "execution_count": 4,
   "metadata": {
    "tags": []
   },
   "outputs": [
    {
     "name": "stdout",
     "output_type": "stream",
     "text": [
      "B value : -0.4818674321377183\n"
     ]
    }
   ],
   "source": [
    "biomass_id='BIOMASS_Ec_iML1515_core_75p37M'\n",
    "E_total=0.13 #equal to e_pool （0.19）* saturation（0.68）\n",
    "substrate_name='EX_glc__D_e_reverse'\n",
    "substrate_value=10\n",
    "biomass_value=0.7074\n",
    "K_value=1249\n",
    "\n",
    "B_value=MDF_Calculation(Concretemodel_Need_Data,biomass_value,biomass_id,substrate_name,substrate_value,K_value,E_total,'gurobi')\n",
    "print(\"B value : \" +str(B_value))"
   ]
  },
  {
   "cell_type": "markdown",
   "metadata": {},
   "source": [
    "# 2.Maximum growth rate calculation\n",
    "By taking the MDF above obtained as the lower bound of thermodynamic constraints."
   ]
  },
  {
   "cell_type": "code",
   "execution_count": 5,
   "metadata": {
    "tags": []
   },
   "outputs": [
    {
     "name": "stdout",
     "output_type": "stream",
     "text": [
      "Max biomass value : 0.7313735882567505\n"
     ]
    }
   ],
   "source": [
    "obj_name='BIOMASS_Ec_iML1515_core_75p37M'\n",
    "obj_target='maximize'\n",
    "E_total=0.13 #equal to e_pool （0.19）* saturation（0.68）\n",
    "substrate_name='EX_glc__D_e_reverse'\n",
    "substrate_value=10\n",
    "K_value=1249\n",
    "\n",
    "max_biomass_under_mdf=Max_Growth_Rate_Calculation(Concretemodel_Need_Data,obj_name,obj_target,substrate_name,substrate_value,K_value,E_total,B_value,'gurobi')\n",
    "print(\"Max biomass value : \" +str(max_biomass_under_mdf))"
   ]
  },
  {
   "cell_type": "markdown",
   "metadata": {},
   "source": [
    "# 3.Minimum enzyme cost calculation\n",
    "By fixing the MDF and maximum growth rate above obtained."
   ]
  },
  {
   "cell_type": "code",
   "execution_count": 6,
   "metadata": {
    "tags": []
   },
   "outputs": [
    {
     "name": "stdout",
     "output_type": "stream",
     "text": [
      "Min enzyme amount : 0.1299999967830606\n"
     ]
    }
   ],
   "source": [
    "biomass_id='BIOMASS_Ec_iML1515_core_75p37M'\n",
    "E_total=0.13 #equal to e_pool （0.19）* saturation（0.68）\n",
    "substrate_name='EX_glc__D_e_reverse'\n",
    "substrate_value=10\n",
    "biomass_value=max_biomass_under_mdf\n",
    "K_value=1249\n",
    "B_value=B_value\n",
    "\n",
    "min_E=Min_Enzyme_Cost_Calculation(Concretemodel_Need_Data,biomass_value,biomass_id,substrate_name,substrate_value,K_value,E_total,B_value,'gurobi')\n",
    "print(\"Min enzyme amount : \" +str(min_E))"
   ]
  },
  {
   "cell_type": "markdown",
   "metadata": {},
   "source": [
    "# 4.Minimum flux sum calculation（pFBA）\n",
    "Used to simplify the output file below"
   ]
  },
  {
   "cell_type": "code",
   "execution_count": 7,
   "metadata": {
    "tags": []
   },
   "outputs": [
    {
     "name": "stdout",
     "output_type": "stream",
     "text": [
      "Min flux amount : 668.3961096998348\n"
     ]
    }
   ],
   "source": [
    "biomass_id='BIOMASS_Ec_iML1515_core_75p37M'\n",
    "E_total=0.13 #equal to e_pool （0.19）* saturation（0.68）\n",
    "substrate_name='EX_glc__D_e_reverse'\n",
    "substrate_value=10\n",
    "biomass_value=max_biomass_under_mdf\n",
    "K_value=1249\n",
    "B_value=B_value\n",
    "\n",
    "[min_V,Concretemodel]=Min_Flux_Sum_Calculation(Concretemodel_Need_Data,biomass_value,biomass_id,substrate_name,substrate_value,K_value,E_total,B_value,'gurobi')\n",
    "print(\"Min flux amount : \" +str(min_V))"
   ]
  },
  {
   "cell_type": "markdown",
   "metadata": {},
   "source": [
    "# 5.Pathway information output\n",
    "It is used to extract the following various lists."
   ]
  },
  {
   "cell_type": "code",
   "execution_count": 8,
   "metadata": {},
   "outputs": [],
   "source": [
    "model=Concretemodel_Need_Data['model']\n",
    "reaction_kcat_MW=Concretemodel_Need_Data['reaction_kcat_MW']\n",
    "reaction_g0=Concretemodel_Need_Data['reaction_g0']\n",
    "coef_matrix=Concretemodel_Need_Data['coef_matrix']\n",
    "metabolite_list=Concretemodel_Need_Data['metabolite_list']\n",
    "use_result = Get_Results_Thermodynamics(model,Concretemodel,reaction_kcat_MW,reaction_g0,coef_matrix,metabolite_list)\n",
    "use_result = use_result[use_result['flux'] > 1e-10] \n",
    "use_result = use_result.sort_values(by = 'flux',axis = 0,ascending = False)\n",
    "use_result[\"reaction\"] = use_result.apply(lambda row: model.reactions.get_by_id(row.name).reaction, axis = 1)\n",
    "use_result[\"gpr\"] = use_result.apply(lambda row: model.reactions.get_by_id(row.name).gene_reaction_rule, axis = 1)\n",
    "use_result.to_csv('./Analysis Result/' + str(round(max_biomass_under_mdf,3)) + '_' + str(round(B_value,3)) + '_' + str(round(min_E,3)) + '_EcoTCM_6-1.csv', sep=',', header=True, index=True,mode='w')"
   ]
  },
  {
   "cell_type": "markdown",
   "metadata": {},
   "source": [
    "# 6.List extraction of candidate bottleneck reactions\n",
    "Standard: the thermodynamic driving force (f) is equal to MDF value (B) above mentiond"
   ]
  },
  {
   "cell_type": "code",
   "execution_count": 9,
   "metadata": {},
   "outputs": [
    {
     "data": {
      "text/html": [
       "<div>\n",
       "<style scoped>\n",
       "    .dataframe tbody tr th:only-of-type {\n",
       "        vertical-align: middle;\n",
       "    }\n",
       "\n",
       "    .dataframe tbody tr th {\n",
       "        vertical-align: top;\n",
       "    }\n",
       "\n",
       "    .dataframe thead th {\n",
       "        text-align: right;\n",
       "    }\n",
       "</style>\n",
       "<table border=\"1\" class=\"dataframe\">\n",
       "  <thead>\n",
       "    <tr style=\"text-align: right;\">\n",
       "      <th></th>\n",
       "      <th>flux</th>\n",
       "      <th>z</th>\n",
       "      <th>f</th>\n",
       "      <th>enz</th>\n",
       "      <th>met_concentration</th>\n",
       "      <th>reaction</th>\n",
       "      <th>gpr</th>\n",
       "    </tr>\n",
       "  </thead>\n",
       "  <tbody>\n",
       "    <tr>\n",
       "      <th>PGK_reverse</th>\n",
       "      <td>17.072314</td>\n",
       "      <td>1.0</td>\n",
       "      <td>-0.481867</td>\n",
       "      <td>0.001186</td>\n",
       "      <td>;3pg_c : 0.009036352331199865;atp_c : 2.600959...</td>\n",
       "      <td>13dpg_c + adp_c --&gt; 3pg_c + atp_c</td>\n",
       "      <td>b2926</td>\n",
       "    </tr>\n",
       "    <tr>\n",
       "      <th>GAPD</th>\n",
       "      <td>17.072314</td>\n",
       "      <td>1.0</td>\n",
       "      <td>-0.481867</td>\n",
       "      <td>0.001440</td>\n",
       "      <td>;nadh_c : 4.999999992621078e-07;pi_c : 0.02000...</td>\n",
       "      <td>g3p_c + nad_c + pi_c --&gt; 13dpg_c + h_c + nadh_c</td>\n",
       "      <td>b1779</td>\n",
       "    </tr>\n",
       "    <tr>\n",
       "      <th>FBA</th>\n",
       "      <td>8.195743</td>\n",
       "      <td>1.0</td>\n",
       "      <td>-0.481859</td>\n",
       "      <td>0.008341</td>\n",
       "      <td>;g3p_c : 0.0012150780459455337;dhap_c : 0.0085...</td>\n",
       "      <td>fdp_c --&gt; dhap_c + g3p_c</td>\n",
       "      <td>b2925 or b2097</td>\n",
       "    </tr>\n",
       "    <tr>\n",
       "      <th>TPI</th>\n",
       "      <td>8.092395</td>\n",
       "      <td>1.0</td>\n",
       "      <td>-0.481867</td>\n",
       "      <td>0.000013</td>\n",
       "      <td>;g3p_c : 0.0012150780459455337;dhap_c : 0.0085...</td>\n",
       "      <td>dhap_c --&gt; g3p_c</td>\n",
       "      <td>b3919</td>\n",
       "    </tr>\n",
       "    <tr>\n",
       "      <th>PGI</th>\n",
       "      <td>6.496757</td>\n",
       "      <td>1.0</td>\n",
       "      <td>-0.481867</td>\n",
       "      <td>0.000529</td>\n",
       "      <td>;g6p_c : 3.376421801088202e-05;f6p_c : 1.52601...</td>\n",
       "      <td>g6p_c --&gt; f6p_c</td>\n",
       "      <td>b4025</td>\n",
       "    </tr>\n",
       "    <tr>\n",
       "      <th>MDH</th>\n",
       "      <td>2.782968</td>\n",
       "      <td>1.0</td>\n",
       "      <td>-0.481867</td>\n",
       "      <td>0.000048</td>\n",
       "      <td>;mal__L_c : 0.001773078669043697;nadh_c : 4.99...</td>\n",
       "      <td>mal__L_c + nad_c --&gt; h_c + nadh_c + oaa_c</td>\n",
       "      <td>b3236</td>\n",
       "    </tr>\n",
       "    <tr>\n",
       "      <th>FUM</th>\n",
       "      <td>2.782968</td>\n",
       "      <td>1.0</td>\n",
       "      <td>-0.481867</td>\n",
       "      <td>0.000068</td>\n",
       "      <td>;mal__L_c : 0.001773078669043697;fum_c : 0.000...</td>\n",
       "      <td>fum_c + h2o_c --&gt; mal__L_c</td>\n",
       "      <td>b4122 or b1612 or b1611</td>\n",
       "    </tr>\n",
       "    <tr>\n",
       "      <th>PPA</th>\n",
       "      <td>2.561443</td>\n",
       "      <td>1.0</td>\n",
       "      <td>-0.481867</td>\n",
       "      <td>0.000166</td>\n",
       "      <td>;ppi_c : 6.207153639009681e-07;pi_c : 0.020000...</td>\n",
       "      <td>h2o_c + ppi_c --&gt; h_c + 2.0 pi_c</td>\n",
       "      <td>b2502 or b2744 or b4226</td>\n",
       "    </tr>\n",
       "    <tr>\n",
       "      <th>ASPTA_reverse</th>\n",
       "      <td>2.141332</td>\n",
       "      <td>1.0</td>\n",
       "      <td>-0.481867</td>\n",
       "      <td>0.001233</td>\n",
       "      <td>;glu__L_c : 0.0013516071481578973;oaa_c : 4.99...</td>\n",
       "      <td>glu__L_c + oaa_c --&gt; akg_c + asp__L_c</td>\n",
       "      <td>b0928 or b4054</td>\n",
       "    </tr>\n",
       "    <tr>\n",
       "      <th>RPE</th>\n",
       "      <td>1.768092</td>\n",
       "      <td>1.0</td>\n",
       "      <td>-0.481867</td>\n",
       "      <td>0.000019</td>\n",
       "      <td>;ru5p__D_c : 0.000136003714097665;xu5p__D_c : ...</td>\n",
       "      <td>ru5p__D_c --&gt; xu5p__D_c</td>\n",
       "      <td>b3386</td>\n",
       "    </tr>\n",
       "  </tbody>\n",
       "</table>\n",
       "</div>"
      ],
      "text/plain": [
       "                    flux    z         f       enz  \\\n",
       "PGK_reverse    17.072314  1.0 -0.481867  0.001186   \n",
       "GAPD           17.072314  1.0 -0.481867  0.001440   \n",
       "FBA             8.195743  1.0 -0.481859  0.008341   \n",
       "TPI             8.092395  1.0 -0.481867  0.000013   \n",
       "PGI             6.496757  1.0 -0.481867  0.000529   \n",
       "MDH             2.782968  1.0 -0.481867  0.000048   \n",
       "FUM             2.782968  1.0 -0.481867  0.000068   \n",
       "PPA             2.561443  1.0 -0.481867  0.000166   \n",
       "ASPTA_reverse   2.141332  1.0 -0.481867  0.001233   \n",
       "RPE             1.768092  1.0 -0.481867  0.000019   \n",
       "\n",
       "                                               met_concentration  \\\n",
       "PGK_reverse    ;3pg_c : 0.009036352331199865;atp_c : 2.600959...   \n",
       "GAPD           ;nadh_c : 4.999999992621078e-07;pi_c : 0.02000...   \n",
       "FBA            ;g3p_c : 0.0012150780459455337;dhap_c : 0.0085...   \n",
       "TPI            ;g3p_c : 0.0012150780459455337;dhap_c : 0.0085...   \n",
       "PGI            ;g6p_c : 3.376421801088202e-05;f6p_c : 1.52601...   \n",
       "MDH            ;mal__L_c : 0.001773078669043697;nadh_c : 4.99...   \n",
       "FUM            ;mal__L_c : 0.001773078669043697;fum_c : 0.000...   \n",
       "PPA            ;ppi_c : 6.207153639009681e-07;pi_c : 0.020000...   \n",
       "ASPTA_reverse  ;glu__L_c : 0.0013516071481578973;oaa_c : 4.99...   \n",
       "RPE            ;ru5p__D_c : 0.000136003714097665;xu5p__D_c : ...   \n",
       "\n",
       "                                                      reaction  \\\n",
       "PGK_reverse                  13dpg_c + adp_c --> 3pg_c + atp_c   \n",
       "GAPD           g3p_c + nad_c + pi_c --> 13dpg_c + h_c + nadh_c   \n",
       "FBA                                   fdp_c --> dhap_c + g3p_c   \n",
       "TPI                                           dhap_c --> g3p_c   \n",
       "PGI                                            g6p_c --> f6p_c   \n",
       "MDH                  mal__L_c + nad_c --> h_c + nadh_c + oaa_c   \n",
       "FUM                                 fum_c + h2o_c --> mal__L_c   \n",
       "PPA                           h2o_c + ppi_c --> h_c + 2.0 pi_c   \n",
       "ASPTA_reverse            glu__L_c + oaa_c --> akg_c + asp__L_c   \n",
       "RPE                                    ru5p__D_c --> xu5p__D_c   \n",
       "\n",
       "                                   gpr  \n",
       "PGK_reverse                      b2926  \n",
       "GAPD                             b1779  \n",
       "FBA                     b2925 or b2097  \n",
       "TPI                              b3919  \n",
       "PGI                              b4025  \n",
       "MDH                              b3236  \n",
       "FUM            b4122 or b1612 or b1611  \n",
       "PPA            b2502 or b2744 or b4226  \n",
       "ASPTA_reverse           b0928 or b4054  \n",
       "RPE                              b3386  "
      ]
     },
     "execution_count": 9,
     "metadata": {},
     "output_type": "execute_result"
    }
   ],
   "source": [
    "use_result_tmp=use_result[use_result['f']>-1249]\n",
    "use_result_select=use_result_tmp[abs(use_result_tmp['f']-B_value)<=1e-05]\n",
    "use_result_select.head(10)"
   ]
  },
  {
   "cell_type": "code",
   "execution_count": 10,
   "metadata": {},
   "outputs": [],
   "source": [
    "path_reac_list=list(use_result_select.index)"
   ]
  },
  {
   "cell_type": "markdown",
   "metadata": {},
   "source": [
    "# 7.Determination of bottleneck reaction\n",
    "Calculate the maximum thermodynamic driving force for reactions in above list, if the value is still equal to B, it is the bottleneck reaction."
   ]
  },
  {
   "cell_type": "code",
   "execution_count": 11,
   "metadata": {
    "tags": []
   },
   "outputs": [
    {
     "name": "stdout",
     "output_type": "stream",
     "text": [
      "0:00:37.795067\n"
     ]
    }
   ],
   "source": [
    "import pandas as pd\n",
    "import numpy as np\n",
    "import datetime\n",
    "from pyomo.environ import *\n",
    "from pyomo.opt import SolverFactory\n",
    "import pyomo.environ as pyo\n",
    "from concurrent.futures import ProcessPoolExecutor, as_completed\n",
    "starttime = datetime.datetime.now()\n",
    "max_min_Df_list_fixed=pd.DataFrame()\n",
    "\n",
    "with ProcessPoolExecutor() as executor:\n",
    "    futures = {executor.submit(Get_Max_Min_Df_Complete,Concretemodel_Need_Data,eachreaction,'maximize',K_value,B_value,max_biomass_under_mdf,\\\n",
    "                               biomass_id,E_total,substrate_name,substrate_value,'gurobi'): eachreaction for eachreaction in path_reac_list}\n",
    "    for future in as_completed(futures):\n",
    "        tmp = future.result()\n",
    "        for eachindex in tmp.index:\n",
    "            #print(eachindex,tmp.loc[eachindex,'max_value'])\n",
    "            max_min_Df_list_fixed.loc[eachindex,'max_Df_complete']=tmp.loc[eachindex,'max_value']\n",
    "\n",
    "endtime = datetime.datetime.now()\n",
    "print (endtime - starttime)\n",
    "max_min_Df_list_fixed.to_csv(max_min_Df_for_specific_reaction_file, sep=',', header=True, index=True,mode='w')"
   ]
  },
  {
   "cell_type": "code",
   "execution_count": 12,
   "metadata": {},
   "outputs": [
    {
     "data": {
      "text/html": [
       "<div>\n",
       "<style scoped>\n",
       "    .dataframe tbody tr th:only-of-type {\n",
       "        vertical-align: middle;\n",
       "    }\n",
       "\n",
       "    .dataframe tbody tr th {\n",
       "        vertical-align: top;\n",
       "    }\n",
       "\n",
       "    .dataframe thead th {\n",
       "        text-align: right;\n",
       "    }\n",
       "</style>\n",
       "<table border=\"1\" class=\"dataframe\">\n",
       "  <thead>\n",
       "    <tr style=\"text-align: right;\">\n",
       "      <th></th>\n",
       "      <th>max_Df_complete</th>\n",
       "    </tr>\n",
       "  </thead>\n",
       "  <tbody>\n",
       "    <tr>\n",
       "      <th>GAPD</th>\n",
       "      <td>-0.481863</td>\n",
       "    </tr>\n",
       "    <tr>\n",
       "      <th>TPI</th>\n",
       "      <td>-0.481859</td>\n",
       "    </tr>\n",
       "    <tr>\n",
       "      <th>FBA</th>\n",
       "      <td>-0.481859</td>\n",
       "    </tr>\n",
       "    <tr>\n",
       "      <th>PGCD</th>\n",
       "      <td>-0.481819</td>\n",
       "    </tr>\n",
       "    <tr>\n",
       "      <th>PGK_reverse</th>\n",
       "      <td>-0.481812</td>\n",
       "    </tr>\n",
       "    <tr>\n",
       "      <th>ACGK</th>\n",
       "      <td>2.667088</td>\n",
       "    </tr>\n",
       "    <tr>\n",
       "      <th>MDH</th>\n",
       "      <td>5.767088</td>\n",
       "    </tr>\n",
       "    <tr>\n",
       "      <th>GLU5K</th>\n",
       "      <td>6.467088</td>\n",
       "    </tr>\n",
       "    <tr>\n",
       "      <th>FUM</th>\n",
       "      <td>9.648955</td>\n",
       "    </tr>\n",
       "    <tr>\n",
       "      <th>IPPMIa_reverse</th>\n",
       "      <td>10.030823</td>\n",
       "    </tr>\n",
       "  </tbody>\n",
       "</table>\n",
       "</div>"
      ],
      "text/plain": [
       "                max_Df_complete\n",
       "GAPD                  -0.481863\n",
       "TPI                   -0.481859\n",
       "FBA                   -0.481859\n",
       "PGCD                  -0.481819\n",
       "PGK_reverse           -0.481812\n",
       "ACGK                   2.667088\n",
       "MDH                    5.767088\n",
       "GLU5K                  6.467088\n",
       "FUM                    9.648955\n",
       "IPPMIa_reverse        10.030823"
      ]
     },
     "execution_count": 12,
     "metadata": {},
     "output_type": "execute_result"
    }
   ],
   "source": [
    "max_min_Df_list_fixed=max_min_Df_list_fixed.sort_values(by='max_Df_complete',ascending = True)\n",
    "max_min_Df_list_fixed.head(10)"
   ]
  },
  {
   "cell_type": "code",
   "execution_count": 13,
   "metadata": {},
   "outputs": [
    {
     "data": {
      "text/html": [
       "<div>\n",
       "<style scoped>\n",
       "    .dataframe tbody tr th:only-of-type {\n",
       "        vertical-align: middle;\n",
       "    }\n",
       "\n",
       "    .dataframe tbody tr th {\n",
       "        vertical-align: top;\n",
       "    }\n",
       "\n",
       "    .dataframe thead th {\n",
       "        text-align: right;\n",
       "    }\n",
       "</style>\n",
       "<table border=\"1\" class=\"dataframe\">\n",
       "  <thead>\n",
       "    <tr style=\"text-align: right;\">\n",
       "      <th></th>\n",
       "      <th>max_Df_complete</th>\n",
       "    </tr>\n",
       "  </thead>\n",
       "  <tbody>\n",
       "    <tr>\n",
       "      <th>GAPD</th>\n",
       "      <td>-0.481863</td>\n",
       "    </tr>\n",
       "    <tr>\n",
       "      <th>TPI</th>\n",
       "      <td>-0.481859</td>\n",
       "    </tr>\n",
       "    <tr>\n",
       "      <th>FBA</th>\n",
       "      <td>-0.481859</td>\n",
       "    </tr>\n",
       "    <tr>\n",
       "      <th>PGCD</th>\n",
       "      <td>-0.481819</td>\n",
       "    </tr>\n",
       "    <tr>\n",
       "      <th>PGK_reverse</th>\n",
       "      <td>-0.481812</td>\n",
       "    </tr>\n",
       "  </tbody>\n",
       "</table>\n",
       "</div>"
      ],
      "text/plain": [
       "             max_Df_complete\n",
       "GAPD               -0.481863\n",
       "TPI                -0.481859\n",
       "FBA                -0.481859\n",
       "PGCD               -0.481819\n",
       "PGK_reverse        -0.481812"
      ]
     },
     "execution_count": 13,
     "metadata": {},
     "output_type": "execute_result"
    }
   ],
   "source": [
    "Bottleneck_reaction=max_min_Df_list_fixed[(max_min_Df_list_fixed['max_Df_complete']-B_value)<=0.001]\n",
    "Bottleneck_reaction"
   ]
  },
  {
   "cell_type": "code",
   "execution_count": 14,
   "metadata": {},
   "outputs": [
    {
     "data": {
      "text/plain": [
       "';nadh_c : 4.999999992621078e-07;pi_c : 0.020000000008563314;nad_c : 4.999999992621083e-06;13dpg_c : 5.319055209562076e-05;h_c : 1.0;g3p_c : 0.0012150780459455337'"
      ]
     },
     "execution_count": 14,
     "metadata": {},
     "output_type": "execute_result"
    }
   ],
   "source": [
    "use_result_select.loc[Bottleneck_reaction.index[0],'met_concentration']"
   ]
  },
  {
   "cell_type": "markdown",
   "metadata": {},
   "source": [
    "# 8.List extraction of candidate limiting metabolites\n",
    "Standard: involved in bottleneck reactions, except fo water (h2o_c) and protons (h_c)."
   ]
  },
  {
   "cell_type": "code",
   "execution_count": 15,
   "metadata": {
    "tags": []
   },
   "outputs": [
    {
     "data": {
      "text/plain": [
       "['3php_c',\n",
       " '3pg_c',\n",
       " '13dpg_c',\n",
       " 'pi_c',\n",
       " 'nad_c',\n",
       " 'fdp_c',\n",
       " 'atp_c',\n",
       " 'adp_c',\n",
       " 'nadh_c',\n",
       " 'dhap_c',\n",
       " 'g3p_c']"
      ]
     },
     "execution_count": 15,
     "metadata": {},
     "output_type": "execute_result"
    }
   ],
   "source": [
    "Bottleneck_reaction_lsit=list(Bottleneck_reaction.index)\n",
    "Bottleneck_reaction_met=[]\n",
    "for rea in model.reactions:\n",
    "    if rea.id in Bottleneck_reaction_lsit:\n",
    "        #print(rea)\n",
    "        for met in model.metabolites:\n",
    "            try:\n",
    "                rea.get_coefficient(met.id)  \n",
    "            except:\n",
    "                pass\n",
    "            else:\n",
    "                if met.id !='h_c' and met.id !='h2o_c':\n",
    "                    Bottleneck_reaction_met.append(met.id)\n",
    "                \n",
    "\n",
    "Bottleneck_reaction_met=list(set(Bottleneck_reaction_met))\n",
    "Bottleneck_reaction_met"
   ]
  },
  {
   "cell_type": "markdown",
   "metadata": {},
   "source": [
    "# 9.Determination of limitting metabolites\n",
    "Calculate the maximum and minimum concentrations for metabolites in above list, if the two values are equal, it is the limiting metabolite."
   ]
  },
  {
   "cell_type": "code",
   "execution_count": 16,
   "metadata": {
    "tags": []
   },
   "outputs": [
    {
     "name": "stdout",
     "output_type": "stream",
     "text": [
      "0:00:22.858933\n"
     ]
    }
   ],
   "source": [
    "import pandas as pd\n",
    "import numpy as np\n",
    "import datetime\n",
    "from pyomo.environ import *\n",
    "from pyomo.opt import SolverFactory\n",
    "import pyomo.environ as pyo\n",
    "from concurrent.futures import ProcessPoolExecutor, as_completed\n",
    "starttime = datetime.datetime.now()\n",
    "max_min_concentration_list_fixed = pd.DataFrame()\n",
    "\n",
    "with ProcessPoolExecutor() as executor:\n",
    "    futures = {executor.submit(Get_Max_Min_Met_Concentration,Concretemodel_Need_Data,eachmet,'maximize',K_value,B_value,\\\n",
    "        max_biomass_under_mdf,biomass_id,E_total,substrate_name,substrate_value,list(Bottleneck_reaction.index),'gurobi'): eachmet for eachmet in Bottleneck_reaction_met}\n",
    "    for future in as_completed(futures):\n",
    "        tmp = future.result()\n",
    "        for eachindex in tmp.index:\n",
    "            #print(eachindex,tmp.loc[eachindex,'max_value'])\n",
    "            max_min_concentration_list_fixed.loc[eachindex,'max_concentration'] = tmp.loc[eachindex,'max_value']\n",
    "\n",
    "with ProcessPoolExecutor() as executor:\n",
    "    futures = {executor.submit(Get_Max_Min_Met_Concentration,Concretemodel_Need_Data,eachmet,'minimize',K_value,B_value,\\\n",
    "        max_biomass_under_mdf,biomass_id,E_total,substrate_name,substrate_value,list(Bottleneck_reaction.index),'gurobi'): eachmet for eachmet in Bottleneck_reaction_met}\n",
    "    for future in as_completed(futures):\n",
    "        tmp = future.result()\n",
    "        for eachindex in tmp.index:\n",
    "            #print(eachindex,tmp.loc[eachindex,'max_value'])\n",
    "            max_min_concentration_list_fixed.loc[eachindex,'min_concentration'] = tmp.loc[eachindex,'min_value']\n",
    "            \n",
    "endtime = datetime.datetime.now()\n",
    "print (endtime - starttime)\n",
    "max_min_concentration_list_fixed.to_csv(max_min_concentration_for_specific_metabolite_file, sep=',', header=True, index=True,mode='w')\n"
   ]
  },
  {
   "cell_type": "code",
   "execution_count": 17,
   "metadata": {},
   "outputs": [
    {
     "data": {
      "text/html": [
       "<div>\n",
       "<style scoped>\n",
       "    .dataframe tbody tr th:only-of-type {\n",
       "        vertical-align: middle;\n",
       "    }\n",
       "\n",
       "    .dataframe tbody tr th {\n",
       "        vertical-align: top;\n",
       "    }\n",
       "\n",
       "    .dataframe thead th {\n",
       "        text-align: right;\n",
       "    }\n",
       "</style>\n",
       "<table border=\"1\" class=\"dataframe\">\n",
       "  <thead>\n",
       "    <tr style=\"text-align: right;\">\n",
       "      <th></th>\n",
       "      <th>max_concentration</th>\n",
       "      <th>min_concentration</th>\n",
       "    </tr>\n",
       "  </thead>\n",
       "  <tbody>\n",
       "    <tr>\n",
       "      <th>3pg_c</th>\n",
       "      <td>-4.706498</td>\n",
       "      <td>-4.706500</td>\n",
       "    </tr>\n",
       "    <tr>\n",
       "      <th>13dpg_c</th>\n",
       "      <td>-9.841628</td>\n",
       "      <td>-9.841630</td>\n",
       "    </tr>\n",
       "    <tr>\n",
       "      <th>pi_c</th>\n",
       "      <td>-3.912023</td>\n",
       "      <td>-3.912025</td>\n",
       "    </tr>\n",
       "    <tr>\n",
       "      <th>3php_c</th>\n",
       "      <td>-14.508656</td>\n",
       "      <td>-14.508658</td>\n",
       "    </tr>\n",
       "    <tr>\n",
       "      <th>nad_c</th>\n",
       "      <td>-3.912023</td>\n",
       "      <td>-12.206073</td>\n",
       "    </tr>\n",
       "    <tr>\n",
       "      <th>atp_c</th>\n",
       "      <td>-3.912023</td>\n",
       "      <td>-12.206073</td>\n",
       "    </tr>\n",
       "    <tr>\n",
       "      <th>fdp_c</th>\n",
       "      <td>-3.912023</td>\n",
       "      <td>-3.912026</td>\n",
       "    </tr>\n",
       "    <tr>\n",
       "      <th>adp_c</th>\n",
       "      <td>-6.214608</td>\n",
       "      <td>-14.508658</td>\n",
       "    </tr>\n",
       "    <tr>\n",
       "      <th>nadh_c</th>\n",
       "      <td>-6.214608</td>\n",
       "      <td>-14.508658</td>\n",
       "    </tr>\n",
       "    <tr>\n",
       "      <th>dhap_c</th>\n",
       "      <td>-4.767177</td>\n",
       "      <td>-4.767180</td>\n",
       "    </tr>\n",
       "    <tr>\n",
       "      <th>g3p_c</th>\n",
       "      <td>-6.712945</td>\n",
       "      <td>-6.712947</td>\n",
       "    </tr>\n",
       "  </tbody>\n",
       "</table>\n",
       "</div>"
      ],
      "text/plain": [
       "         max_concentration  min_concentration\n",
       "3pg_c            -4.706498          -4.706500\n",
       "13dpg_c          -9.841628          -9.841630\n",
       "pi_c             -3.912023          -3.912025\n",
       "3php_c          -14.508656         -14.508658\n",
       "nad_c            -3.912023         -12.206073\n",
       "atp_c            -3.912023         -12.206073\n",
       "fdp_c            -3.912023          -3.912026\n",
       "adp_c            -6.214608         -14.508658\n",
       "nadh_c           -6.214608         -14.508658\n",
       "dhap_c           -4.767177          -4.767180\n",
       "g3p_c            -6.712945          -6.712947"
      ]
     },
     "execution_count": 17,
     "metadata": {},
     "output_type": "execute_result"
    }
   ],
   "source": [
    "max_min_concentration_list_fixed"
   ]
  },
  {
   "cell_type": "code",
   "execution_count": 18,
   "metadata": {},
   "outputs": [
    {
     "data": {
      "text/html": [
       "<div>\n",
       "<style scoped>\n",
       "    .dataframe tbody tr th:only-of-type {\n",
       "        vertical-align: middle;\n",
       "    }\n",
       "\n",
       "    .dataframe tbody tr th {\n",
       "        vertical-align: top;\n",
       "    }\n",
       "\n",
       "    .dataframe thead th {\n",
       "        text-align: right;\n",
       "    }\n",
       "</style>\n",
       "<table border=\"1\" class=\"dataframe\">\n",
       "  <thead>\n",
       "    <tr style=\"text-align: right;\">\n",
       "      <th></th>\n",
       "      <th>max_concentration</th>\n",
       "      <th>min_concentration</th>\n",
       "    </tr>\n",
       "  </thead>\n",
       "  <tbody>\n",
       "    <tr>\n",
       "      <th>3pg_c</th>\n",
       "      <td>-4.706498</td>\n",
       "      <td>-4.706500</td>\n",
       "    </tr>\n",
       "    <tr>\n",
       "      <th>13dpg_c</th>\n",
       "      <td>-9.841628</td>\n",
       "      <td>-9.841630</td>\n",
       "    </tr>\n",
       "    <tr>\n",
       "      <th>pi_c</th>\n",
       "      <td>-3.912023</td>\n",
       "      <td>-3.912025</td>\n",
       "    </tr>\n",
       "    <tr>\n",
       "      <th>3php_c</th>\n",
       "      <td>-14.508656</td>\n",
       "      <td>-14.508658</td>\n",
       "    </tr>\n",
       "    <tr>\n",
       "      <th>fdp_c</th>\n",
       "      <td>-3.912023</td>\n",
       "      <td>-3.912026</td>\n",
       "    </tr>\n",
       "    <tr>\n",
       "      <th>dhap_c</th>\n",
       "      <td>-4.767177</td>\n",
       "      <td>-4.767180</td>\n",
       "    </tr>\n",
       "    <tr>\n",
       "      <th>g3p_c</th>\n",
       "      <td>-6.712945</td>\n",
       "      <td>-6.712947</td>\n",
       "    </tr>\n",
       "  </tbody>\n",
       "</table>\n",
       "</div>"
      ],
      "text/plain": [
       "         max_concentration  min_concentration\n",
       "3pg_c            -4.706498          -4.706500\n",
       "13dpg_c          -9.841628          -9.841630\n",
       "pi_c             -3.912023          -3.912025\n",
       "3php_c          -14.508656         -14.508658\n",
       "fdp_c            -3.912023          -3.912026\n",
       "dhap_c           -4.767177          -4.767180\n",
       "g3p_c            -6.712945          -6.712947"
      ]
     },
     "execution_count": 18,
     "metadata": {},
     "output_type": "execute_result"
    }
   ],
   "source": [
    "Limiting_metabolite = max_min_concentration_list_fixed[(max_min_concentration_list_fixed['max_concentration'] - max_min_concentration_list_fixed['min_concentration']) <= 0.001]\n",
    "Limiting_metabolite"
   ]
  },
  {
   "cell_type": "markdown",
   "metadata": {},
   "source": [
    "# 10.List extraction of candidate key enzymes\n",
    "Standard: The amount of enzyme usage was more than 0.0013 g/gDW （above 1% of e_pool,eff）"
   ]
  },
  {
   "cell_type": "code",
   "execution_count": 19,
   "metadata": {},
   "outputs": [
    {
     "data": {
      "text/html": [
       "<div>\n",
       "<style scoped>\n",
       "    .dataframe tbody tr th:only-of-type {\n",
       "        vertical-align: middle;\n",
       "    }\n",
       "\n",
       "    .dataframe tbody tr th {\n",
       "        vertical-align: top;\n",
       "    }\n",
       "\n",
       "    .dataframe thead th {\n",
       "        text-align: right;\n",
       "    }\n",
       "</style>\n",
       "<table border=\"1\" class=\"dataframe\">\n",
       "  <thead>\n",
       "    <tr style=\"text-align: right;\">\n",
       "      <th></th>\n",
       "      <th>flux</th>\n",
       "      <th>z</th>\n",
       "      <th>f</th>\n",
       "      <th>enz</th>\n",
       "      <th>met_concentration</th>\n",
       "      <th>reaction</th>\n",
       "      <th>gpr</th>\n",
       "    </tr>\n",
       "  </thead>\n",
       "  <tbody>\n",
       "    <tr>\n",
       "      <th>NADH16pp</th>\n",
       "      <td>31.346475</td>\n",
       "      <td>1.0</td>\n",
       "      <td>-9999.000000</td>\n",
       "      <td>0.024194</td>\n",
       "      <td>;nadh_c : 4.999999992621078e-07;h_p : 1.0;nad_...</td>\n",
       "      <td>4.0 h_c + nadh_c + q8_c --&gt; 3.0 h_p + nad_c + ...</td>\n",
       "      <td>b2280 and b2281 and b2287 and b2288 and b2282 ...</td>\n",
       "    </tr>\n",
       "    <tr>\n",
       "      <th>FBA</th>\n",
       "      <td>8.195743</td>\n",
       "      <td>1.0</td>\n",
       "      <td>-0.481859</td>\n",
       "      <td>0.008341</td>\n",
       "      <td>;g3p_c : 0.0012150780459455337;dhap_c : 0.0085...</td>\n",
       "      <td>fdp_c --&gt; dhap_c + g3p_c</td>\n",
       "      <td>b2925 or b2097</td>\n",
       "    </tr>\n",
       "    <tr>\n",
       "      <th>CBPS</th>\n",
       "      <td>0.458269</td>\n",
       "      <td>1.0</td>\n",
       "      <td>7.797594</td>\n",
       "      <td>0.005718</td>\n",
       "      <td>;hco3_c : 3.3502907600691315e-07;gln__L_c : 4....</td>\n",
       "      <td>2.0 atp_c + gln__L_c + h2o_c + hco3_c --&gt; 2.0 ...</td>\n",
       "      <td>b0032 and b0033</td>\n",
       "    </tr>\n",
       "    <tr>\n",
       "      <th>KARA2</th>\n",
       "      <td>0.212485</td>\n",
       "      <td>1.0</td>\n",
       "      <td>6.027153</td>\n",
       "      <td>0.004255</td>\n",
       "      <td>;nadp_c : 0.0020000000008562916;23dhmp_c : 0.0...</td>\n",
       "      <td>2ahbut_c + h_c + nadph_c --&gt; 23dhmp_c + nadp_c</td>\n",
       "      <td>b3774</td>\n",
       "    </tr>\n",
       "    <tr>\n",
       "      <th>KARA1_reverse</th>\n",
       "      <td>0.639489</td>\n",
       "      <td>1.0</td>\n",
       "      <td>15.735640</td>\n",
       "      <td>0.004176</td>\n",
       "      <td>;h_c : 1.0;nadph_c : 0.02000000000856292;alac_...</td>\n",
       "      <td>alac__S_c + h_c + nadph_c --&gt; 23dhmb_c + nadp_c</td>\n",
       "      <td>b3774</td>\n",
       "    </tr>\n",
       "    <tr>\n",
       "      <th>GHMT2r</th>\n",
       "      <td>0.775898</td>\n",
       "      <td>1.0</td>\n",
       "      <td>2.244747</td>\n",
       "      <td>0.003052</td>\n",
       "      <td>;ser__L_c : 4.999999992621096e-07;thf_c : 0.00...</td>\n",
       "      <td>ser__L_c + thf_c --&gt; gly_c + h2o_c + mlthf_c</td>\n",
       "      <td>b2551</td>\n",
       "    </tr>\n",
       "    <tr>\n",
       "      <th>CYTBO3_4pp</th>\n",
       "      <td>33.608635</td>\n",
       "      <td>1.0</td>\n",
       "      <td>-9999.000000</td>\n",
       "      <td>0.002357</td>\n",
       "      <td>;h_p : 1.0;o2_c : 4.999999992621096e-07;h_c : ...</td>\n",
       "      <td>4.0 h_c + 0.5 o2_c + q8h2_c --&gt; h2o_c + 4.0 h_...</td>\n",
       "      <td>b0429 and b0432 and b0431 and b0430</td>\n",
       "    </tr>\n",
       "    <tr>\n",
       "      <th>GND</th>\n",
       "      <td>3.503243</td>\n",
       "      <td>1.0</td>\n",
       "      <td>27.662496</td>\n",
       "      <td>0.002277</td>\n",
       "      <td>;6pgc_c : 0.0007978297528964933;ru5p__D_c : 0....</td>\n",
       "      <td>6pgc_c + nadp_c --&gt; co2_c + nadph_c + ru5p__D_c</td>\n",
       "      <td>b2029</td>\n",
       "    </tr>\n",
       "    <tr>\n",
       "      <th>PGM_reverse</th>\n",
       "      <td>15.855908</td>\n",
       "      <td>1.0</td>\n",
       "      <td>15.397356</td>\n",
       "      <td>0.001864</td>\n",
       "      <td>;2pg_c : 4.706599742980262e-06;3pg_c : 0.00903...</td>\n",
       "      <td>3pg_c --&gt; 2pg_c</td>\n",
       "      <td>b0755 or b3612</td>\n",
       "    </tr>\n",
       "    <tr>\n",
       "      <th>ATPS4rpp</th>\n",
       "      <td>55.181813</td>\n",
       "      <td>1.0</td>\n",
       "      <td>-9999.000000</td>\n",
       "      <td>0.001857</td>\n",
       "      <td>;h_p : 1.0;atp_c : 2.6009595205285837e-05;adp_...</td>\n",
       "      <td>adp_c + 4.0 h_p + pi_c --&gt; atp_c + h2o_c + 3.0...</td>\n",
       "      <td>( b3734 and b3733 and b3731 and b3735 and b373...</td>\n",
       "    </tr>\n",
       "  </tbody>\n",
       "</table>\n",
       "</div>"
      ],
      "text/plain": [
       "                    flux    z            f       enz  \\\n",
       "NADH16pp       31.346475  1.0 -9999.000000  0.024194   \n",
       "FBA             8.195743  1.0    -0.481859  0.008341   \n",
       "CBPS            0.458269  1.0     7.797594  0.005718   \n",
       "KARA2           0.212485  1.0     6.027153  0.004255   \n",
       "KARA1_reverse   0.639489  1.0    15.735640  0.004176   \n",
       "GHMT2r          0.775898  1.0     2.244747  0.003052   \n",
       "CYTBO3_4pp     33.608635  1.0 -9999.000000  0.002357   \n",
       "GND             3.503243  1.0    27.662496  0.002277   \n",
       "PGM_reverse    15.855908  1.0    15.397356  0.001864   \n",
       "ATPS4rpp       55.181813  1.0 -9999.000000  0.001857   \n",
       "\n",
       "                                               met_concentration  \\\n",
       "NADH16pp       ;nadh_c : 4.999999992621078e-07;h_p : 1.0;nad_...   \n",
       "FBA            ;g3p_c : 0.0012150780459455337;dhap_c : 0.0085...   \n",
       "CBPS           ;hco3_c : 3.3502907600691315e-07;gln__L_c : 4....   \n",
       "KARA2          ;nadp_c : 0.0020000000008562916;23dhmp_c : 0.0...   \n",
       "KARA1_reverse  ;h_c : 1.0;nadph_c : 0.02000000000856292;alac_...   \n",
       "GHMT2r         ;ser__L_c : 4.999999992621096e-07;thf_c : 0.00...   \n",
       "CYTBO3_4pp     ;h_p : 1.0;o2_c : 4.999999992621096e-07;h_c : ...   \n",
       "GND            ;6pgc_c : 0.0007978297528964933;ru5p__D_c : 0....   \n",
       "PGM_reverse    ;2pg_c : 4.706599742980262e-06;3pg_c : 0.00903...   \n",
       "ATPS4rpp       ;h_p : 1.0;atp_c : 2.6009595205285837e-05;adp_...   \n",
       "\n",
       "                                                        reaction  \\\n",
       "NADH16pp       4.0 h_c + nadh_c + q8_c --> 3.0 h_p + nad_c + ...   \n",
       "FBA                                     fdp_c --> dhap_c + g3p_c   \n",
       "CBPS           2.0 atp_c + gln__L_c + h2o_c + hco3_c --> 2.0 ...   \n",
       "KARA2             2ahbut_c + h_c + nadph_c --> 23dhmp_c + nadp_c   \n",
       "KARA1_reverse    alac__S_c + h_c + nadph_c --> 23dhmb_c + nadp_c   \n",
       "GHMT2r              ser__L_c + thf_c --> gly_c + h2o_c + mlthf_c   \n",
       "CYTBO3_4pp     4.0 h_c + 0.5 o2_c + q8h2_c --> h2o_c + 4.0 h_...   \n",
       "GND              6pgc_c + nadp_c --> co2_c + nadph_c + ru5p__D_c   \n",
       "PGM_reverse                                      3pg_c --> 2pg_c   \n",
       "ATPS4rpp       adp_c + 4.0 h_p + pi_c --> atp_c + h2o_c + 3.0...   \n",
       "\n",
       "                                                             gpr  \n",
       "NADH16pp       b2280 and b2281 and b2287 and b2288 and b2282 ...  \n",
       "FBA                                               b2925 or b2097  \n",
       "CBPS                                             b0032 and b0033  \n",
       "KARA2                                                      b3774  \n",
       "KARA1_reverse                                              b3774  \n",
       "GHMT2r                                                     b2551  \n",
       "CYTBO3_4pp                   b0429 and b0432 and b0431 and b0430  \n",
       "GND                                                        b2029  \n",
       "PGM_reverse                                       b0755 or b3612  \n",
       "ATPS4rpp       ( b3734 and b3733 and b3731 and b3735 and b373...  "
      ]
     },
     "execution_count": 19,
     "metadata": {},
     "output_type": "execute_result"
    }
   ],
   "source": [
    "step5_file = pd.read_csv('./Analysis Result/' + str(round(max_biomass_under_mdf,3)) + '_' + str(round(B_value,3)) + '_' + str(round(min_E,3)) + '_EcoTCM_6-1.csv',index_col=0)\n",
    "step5_file_sort = step5_file.sort_values(by='enz',ascending = False)\n",
    "step5_file_sort.head(10)"
   ]
  },
  {
   "cell_type": "code",
   "execution_count": 20,
   "metadata": {},
   "outputs": [],
   "source": [
    "enz_use_reaction_list = list(step5_file_sort[step5_file_sort['enz'] > 0.0013].index)\n",
    "#enz_use_reaction_list"
   ]
  },
  {
   "cell_type": "markdown",
   "metadata": {},
   "source": [
    "# 11.Determination of key enzymes.\n",
    "Calculate the minimum enzyme cost for reactions in above list, and the higher the value, the more critical (key) the enzyme."
   ]
  },
  {
   "cell_type": "code",
   "execution_count": 21,
   "metadata": {
    "tags": []
   },
   "outputs": [
    {
     "name": "stdout",
     "output_type": "stream",
     "text": [
      "0:00:31.940128\n"
     ]
    }
   ],
   "source": [
    "import pandas as pd\n",
    "import numpy as np\n",
    "import datetime\n",
    "from pyomo.environ import *\n",
    "from pyomo.opt import SolverFactory\n",
    "import pyomo.environ as pyo\n",
    "from concurrent.futures import ProcessPoolExecutor, as_completed\n",
    "starttime = datetime.datetime.now()\n",
    "max_min_E_list_fixed = pd.DataFrame()\n",
    "\n",
    "with ProcessPoolExecutor() as executor:\n",
    "    futures = {executor.submit(Get_Max_Min_E,Concretemodel_Need_Data,eachreaction,'maximize',K_value,B_value,\\\n",
    "                    max_biomass_under_mdf,biomass_id,E_total,substrate_name,substrate_value,'gurobi'): eachreaction for eachreaction in enz_use_reaction_list}\n",
    "    for future in as_completed(futures):\n",
    "        tmp = future.result()\n",
    "        for eachindex in tmp.index:\n",
    "            #print(eachindex,tmp.loc[eachindex,'max_value'])\n",
    "            max_min_E_list_fixed.loc[eachindex,'max_E']=tmp.loc[eachindex,'max_value']\n",
    "\n",
    "with ProcessPoolExecutor() as executor:\n",
    "    futures = {executor.submit(Get_Max_Min_E,Concretemodel_Need_Data,eachreaction,'minimize',K_value,B_value,\\\n",
    "                    max_biomass_under_mdf,biomass_id,E_total,substrate_name,substrate_value,'gurobi'): eachreaction for eachreaction in enz_use_reaction_list}\n",
    "    for future in as_completed(futures):\n",
    "        tmp = future.result()\n",
    "        for eachindex in tmp.index:\n",
    "            #print(eachindex,tmp.loc[eachindex,'max_value'])\n",
    "            max_min_E_list_fixed.loc[eachindex,'min_E']=tmp.loc[eachindex,'min_value']\n",
    "endtime = datetime.datetime.now()\n",
    "print (endtime - starttime)\n",
    "max_min_E_list_fixed.to_csv(max_min_E_file, sep=',', header=True, index=True,mode='w')\n"
   ]
  },
  {
   "cell_type": "code",
   "execution_count": 22,
   "metadata": {},
   "outputs": [
    {
     "data": {
      "text/html": [
       "<div>\n",
       "<style scoped>\n",
       "    .dataframe tbody tr th:only-of-type {\n",
       "        vertical-align: middle;\n",
       "    }\n",
       "\n",
       "    .dataframe tbody tr th {\n",
       "        vertical-align: top;\n",
       "    }\n",
       "\n",
       "    .dataframe thead th {\n",
       "        text-align: right;\n",
       "    }\n",
       "</style>\n",
       "<table border=\"1\" class=\"dataframe\">\n",
       "  <thead>\n",
       "    <tr style=\"text-align: right;\">\n",
       "      <th></th>\n",
       "      <th>max_E</th>\n",
       "      <th>min_E</th>\n",
       "    </tr>\n",
       "  </thead>\n",
       "  <tbody>\n",
       "    <tr>\n",
       "      <th>NADH16pp</th>\n",
       "      <td>0.024194</td>\n",
       "      <td>0.024194</td>\n",
       "    </tr>\n",
       "    <tr>\n",
       "      <th>FBA</th>\n",
       "      <td>0.008341</td>\n",
       "      <td>0.008341</td>\n",
       "    </tr>\n",
       "    <tr>\n",
       "      <th>CBPS</th>\n",
       "      <td>0.005718</td>\n",
       "      <td>0.005718</td>\n",
       "    </tr>\n",
       "    <tr>\n",
       "      <th>KARA2</th>\n",
       "      <td>0.004255</td>\n",
       "      <td>0.004255</td>\n",
       "    </tr>\n",
       "    <tr>\n",
       "      <th>KARA1_reverse</th>\n",
       "      <td>0.004176</td>\n",
       "      <td>0.004176</td>\n",
       "    </tr>\n",
       "    <tr>\n",
       "      <th>GHMT2r</th>\n",
       "      <td>0.003052</td>\n",
       "      <td>0.003052</td>\n",
       "    </tr>\n",
       "    <tr>\n",
       "      <th>CYTBO3_4pp</th>\n",
       "      <td>0.002357</td>\n",
       "      <td>0.002357</td>\n",
       "    </tr>\n",
       "    <tr>\n",
       "      <th>GND</th>\n",
       "      <td>0.002277</td>\n",
       "      <td>0.002277</td>\n",
       "    </tr>\n",
       "    <tr>\n",
       "      <th>PGM_reverse</th>\n",
       "      <td>0.001864</td>\n",
       "      <td>0.001864</td>\n",
       "    </tr>\n",
       "    <tr>\n",
       "      <th>ATPS4rpp</th>\n",
       "      <td>0.001857</td>\n",
       "      <td>0.001857</td>\n",
       "    </tr>\n",
       "    <tr>\n",
       "      <th>GLCptspp</th>\n",
       "      <td>0.001754</td>\n",
       "      <td>0.001754</td>\n",
       "    </tr>\n",
       "    <tr>\n",
       "      <th>ENO</th>\n",
       "      <td>0.001749</td>\n",
       "      <td>0.001749</td>\n",
       "    </tr>\n",
       "    <tr>\n",
       "      <th>PSERT</th>\n",
       "      <td>0.001620</td>\n",
       "      <td>0.001620</td>\n",
       "    </tr>\n",
       "    <tr>\n",
       "      <th>AKGDH</th>\n",
       "      <td>0.001495</td>\n",
       "      <td>0.001495</td>\n",
       "    </tr>\n",
       "    <tr>\n",
       "      <th>GAPD</th>\n",
       "      <td>0.001440</td>\n",
       "      <td>0.001440</td>\n",
       "    </tr>\n",
       "    <tr>\n",
       "      <th>IMPD</th>\n",
       "      <td>0.001428</td>\n",
       "      <td>0.001428</td>\n",
       "    </tr>\n",
       "    <tr>\n",
       "      <th>ASAD_reverse</th>\n",
       "      <td>0.001380</td>\n",
       "      <td>0.001380</td>\n",
       "    </tr>\n",
       "    <tr>\n",
       "      <th>THRS</th>\n",
       "      <td>0.001302</td>\n",
       "      <td>0.001302</td>\n",
       "    </tr>\n",
       "  </tbody>\n",
       "</table>\n",
       "</div>"
      ],
      "text/plain": [
       "                  max_E     min_E\n",
       "NADH16pp       0.024194  0.024194\n",
       "FBA            0.008341  0.008341\n",
       "CBPS           0.005718  0.005718\n",
       "KARA2          0.004255  0.004255\n",
       "KARA1_reverse  0.004176  0.004176\n",
       "GHMT2r         0.003052  0.003052\n",
       "CYTBO3_4pp     0.002357  0.002357\n",
       "GND            0.002277  0.002277\n",
       "PGM_reverse    0.001864  0.001864\n",
       "ATPS4rpp       0.001857  0.001857\n",
       "GLCptspp       0.001754  0.001754\n",
       "ENO            0.001749  0.001749\n",
       "PSERT          0.001620  0.001620\n",
       "AKGDH          0.001495  0.001495\n",
       "GAPD           0.001440  0.001440\n",
       "IMPD           0.001428  0.001428\n",
       "ASAD_reverse   0.001380  0.001380\n",
       "THRS           0.001302  0.001302"
      ]
     },
     "execution_count": 22,
     "metadata": {},
     "output_type": "execute_result"
    }
   ],
   "source": [
    "max_min_E_list_fixed.sort_values(by='max_E',ascending = False)"
   ]
  },
  {
   "cell_type": "code",
   "execution_count": null,
   "metadata": {
    "collapsed": true,
    "jupyter": {
     "outputs_hidden": true
    }
   },
   "outputs": [],
   "source": []
  }
 ],
 "metadata": {
  "kernelspec": {
   "display_name": "ETGEMs",
   "language": "python",
   "name": "etgems"
  },
  "language_info": {
   "codemirror_mode": {
    "name": "ipython",
    "version": 3
   },
   "file_extension": ".py",
   "mimetype": "text/x-python",
   "name": "python",
   "nbconvert_exporter": "python",
   "pygments_lexer": "ipython3",
   "version": "3.5.5"
  }
 },
 "nbformat": 4,
 "nbformat_minor": 4
}
