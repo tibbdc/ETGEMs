{
 "cells": [
  {
   "cell_type": "markdown",
   "metadata": {},
   "source": [
    "# Module import"
   ]
  },
  {
   "cell_type": "code",
   "execution_count": 1,
   "metadata": {},
   "outputs": [],
   "source": [
    "from ETGEMs_function_N import *"
   ]
  },
  {
   "cell_type": "markdown",
   "metadata": {},
   "source": [
    "# Data initialization"
   ]
  },
  {
   "cell_type": "code",
   "execution_count": 24,
   "metadata": {},
   "outputs": [],
   "source": [
    "import pandas as pd\n",
    "import cobra\n",
    "\n",
    "reaction_g0_file='./Basic Data/reaction_g0_N.txt'\n",
    "metabolites_lnC_file = './Basic Data/metabolites_lnC.txt'\n",
    "reaction_kcat_MW_file='./Basic Data/ID_kcat_MW_file_N.csv'\n",
    "\n",
    "model=cobra.io.read_sbml_model('./Basic Data/iML1515.xml')\n",
    "cobra.manipulation.modify.convert_to_irreversible(model)\n",
    "\n",
    "\n",
    "#model.reactions.get_by_id('ATPM').bounds = (0.0, 1000)\n",
    "model.reactions.get_by_id('TRPS2').bounds = (0.0, 0.0)\n",
    "model.reactions.get_by_id('TRPS3').bounds = (0.0, 0.0)\n",
    "model.reactions.get_by_id('ACONTa').bounds = (0.0, 0.0)\n",
    "model.reactions.get_by_id('ACONTb').bounds = (0.0, 0.0)\n",
    "model.reactions.get_by_id('ACONTa_reverse').bounds = (0.0, 0.0)\n",
    "model.reactions.get_by_id('ACONTb_reverse').bounds = (0.0, 0.0)\n",
    "\n",
    "R=cobra.Reaction('ACONT')#add new reaction\n",
    "model.add_reaction(R)\n",
    "R.build_reaction_from_string('cit_c --> icit_c',fwd_arrow=\"-->\")\n",
    "model.reactions.get_by_id('ACONT').bounds = (0.0, 1000)\n",
    "\n",
    "R=cobra.Reaction('ACONT_reverse')\n",
    "model.add_reaction(R)\n",
    "R.build_reaction_from_string('icit_c --> cit_c',fwd_arrow=\"-->\")\n",
    "model.reactions.get_by_id('ACONT_reverse').bounds = (0.0, 1000)\n",
    "\n",
    "\n",
    "model.reactions.get_by_id('PGCD').bounds = (0.0, 0.0)\n",
    "model.reactions.get_by_id('AHGDx').bounds = (0.0, 0.0)\n",
    "model.reactions.get_by_id('AHGDx_reverse').bounds = (0.0, 0.0)\n",
    "\n",
    "R=cobra.Reaction('SERA')\n",
    "model.add_reaction(R)\n",
    "R.build_reaction_from_string('3pg_c + akg_c --> 3php_c + S2hglut_c',fwd_arrow=\"-->\")\n",
    "model.reactions.get_by_id('SERA').bounds = (0.0, 1000)\n",
    "\n",
    "Concretemodel_Need_Data=Get_Concretemodel_Need_Data(reaction_g0_file,metabolites_lnC_file,model,reaction_kcat_MW_file)"
   ]
  },
  {
   "cell_type": "markdown",
   "metadata": {},
   "source": [
    "# 1.MDF calculation\n",
    "Preset a lower growth rate, for example, when set \"biomass_value = 0.3\", and then get an MDF value (2.667); when set \"biomass_value = 0.7074\", and then get an MDF value (-14.571)."
   ]
  },
  {
   "cell_type": "code",
   "execution_count": 96,
   "metadata": {
    "tags": []
   },
   "outputs": [
    {
     "name": "stdout",
     "output_type": "stream",
     "text": [
      "B value : -23.017829311460016\n"
     ]
    }
   ],
   "source": [
    "product_id = 'BIOMASS_Ec_iML1515_core_75p37M'\n",
    "#biomass_id='DM_4hpro_LT_c'\n",
    "#biomass_id='DM_ser__L_c'\n",
    "# biomass_id='BIOMASS_Ec_iML1515_core_75p37M'\n",
    "E_total = 0.13 #eaual to e_pool （0.228）* saturation（0.5）\n",
    "substrate_name = 'EX_glc__D_e_reverse'\n",
    "substrate_value = 10\n",
    "product_value = 0.74554952\n",
    "K_value=1249\n",
    "\n",
    "B_value=MDF_Calculation(Concretemodel_Need_Data,product_value,product_id,substrate_name,substrate_value,K_value,E_total,'gurobi')\n",
    "print(\"B value : \" +str(B_value))"
   ]
  },
  {
   "cell_type": "markdown",
   "metadata": {},
   "source": [
    "# 2.Maximum growth rate calculation\n",
    "By taking the MDF above obtained as the lower bound of thermodynamic constraints."
   ]
  },
  {
   "cell_type": "code",
   "execution_count": 93,
   "metadata": {
    "tags": []
   },
   "outputs": [
    {
     "name": "stdout",
     "output_type": "stream",
     "text": [
      "Max biomass value : 0.7455495177835006\n"
     ]
    }
   ],
   "source": [
    "obj_name='BIOMASS_Ec_iML1515_core_75p37M'\n",
    "obj_target='maximize'\n",
    "E_total=0.13\n",
    "substrate_name='EX_glc__D_e_reverse'\n",
    "substrate_value=10\n",
    "K_value=1249\n",
    "\n",
    "max_product_under_mdf=Max_Growth_Rate_Calculation(Concretemodel_Need_Data,obj_name,obj_target,substrate_name,substrate_value,K_value,E_total,B_value,'gurobi')\n",
    "print(\"Max biomass value : \" +str(max_product_under_mdf))"
   ]
  },
  {
   "cell_type": "markdown",
   "metadata": {},
   "source": [
    "# 3.Minimum enzyme cost calculation\n",
    "By fixing the MDF and maximum growth rate above obtained."
   ]
  },
  {
   "cell_type": "code",
   "execution_count": 70,
   "metadata": {
    "tags": []
   },
   "outputs": [
    {
     "name": "stdout",
     "output_type": "stream",
     "text": [
      "Min enzyme amount : 0.12999999675932342\n"
     ]
    }
   ],
   "source": [
    "product_id='BIOMASS_Ec_iML1515_core_75p37M'\n",
    "E_total=0.13 #eaual to e_pool （0.228）* saturation（0.5）\n",
    "substrate_name='EX_glc__D_e_reverse'\n",
    "substrate_value=10\n",
    "product_value=max_product_under_mdf\n",
    "K_value=1249\n",
    "B_value=B_value\n",
    "#B_value=0\n",
    "\n",
    "min_E=Min_Enzyme_Cost_Calculation(Concretemodel_Need_Data,product_value,product_id,substrate_name,substrate_value,K_value,E_total,B_value,'gurobi')\n",
    "print(\"Min enzyme amount : \" +str(min_E))"
   ]
  },
  {
   "cell_type": "markdown",
   "metadata": {},
   "source": [
    "# 4.Minimum flux sum calculation（pFBA）\n",
    "Used to simplify the output file below"
   ]
  },
  {
   "cell_type": "code",
   "execution_count": 71,
   "metadata": {
    "tags": []
   },
   "outputs": [
    {
     "name": "stdout",
     "output_type": "stream",
     "text": [
      "Min flux amount : 678.9170044802833\n"
     ]
    }
   ],
   "source": [
    "product_id='BIOMASS_Ec_iML1515_core_75p37M'\n",
    "E_total=0.13 #eaual to e_pool （0.228）* saturation（0.5）\n",
    "substrate_name='EX_glc__D_e_reverse'\n",
    "substrate_value=10\n",
    "product_value=max_product_under_mdf\n",
    "K_value=1249\n",
    "B_value=B_value\n",
    "#B_value=B_0\n",
    "\n",
    "[min_V,Concretemodel]=Min_Flux_Sum_Calculation(Concretemodel_Need_Data,product_value,product_id,substrate_name,substrate_value,K_value,E_total,B_value,'gurobi')\n",
    "print(\"Min flux amount : \" +str(min_V))"
   ]
  },
  {
   "cell_type": "markdown",
   "metadata": {},
   "source": [
    "# 5.Pathway information output\n",
    "It is used to extract the following various lists."
   ]
  },
  {
   "cell_type": "code",
   "execution_count": 72,
   "metadata": {},
   "outputs": [],
   "source": [
    "model=Concretemodel_Need_Data['model']\n",
    "reaction_kcat_MW=Concretemodel_Need_Data['reaction_kcat_MW']\n",
    "reaction_g0=Concretemodel_Need_Data['reaction_g0']\n",
    "coef_matrix=Concretemodel_Need_Data['coef_matrix']\n",
    "metabolite_list=Concretemodel_Need_Data['metabolite_list']\n",
    "use_result = Get_Results_Thermodynamics(model,Concretemodel,reaction_kcat_MW,reaction_g0,coef_matrix,metabolite_list)\n",
    "use_result = use_result[use_result['flux'] > 1e-10] \n",
    "use_result = use_result.sort_values(by = 'flux',axis = 0,ascending = False)\n",
    "use_result[\"reaction\"] = use_result.apply(lambda row: model.reactions.get_by_id(row.name).reaction, axis = 1)\n",
    "use_result[\"gpr\"] = use_result.apply(lambda row: model.reactions.get_by_id(row.name).gene_reaction_rule, axis = 1)\n",
    "use_result.to_csv('./Analysis Result/Biomass/' + 'glc10_' + str(round(max_product_under_mdf,3)) + '_' + str(round(B_value,3)) + '_' + str(round(min_E,3)) + '_pathway_3.csv', sep=',', header=True, index=True,mode='w')"
   ]
  },
  {
   "cell_type": "markdown",
   "metadata": {},
   "source": [
    "# 6.List extraction of candidate bottleneck reactions\n",
    "Standard: the thermodynamic driving force (f) is equal to MDF value (B) above mentiond"
   ]
  },
  {
   "cell_type": "code",
   "execution_count": 73,
   "metadata": {},
   "outputs": [
    {
     "data": {
      "text/html": [
       "<div>\n",
       "<style scoped>\n",
       "    .dataframe tbody tr th:only-of-type {\n",
       "        vertical-align: middle;\n",
       "    }\n",
       "\n",
       "    .dataframe tbody tr th {\n",
       "        vertical-align: top;\n",
       "    }\n",
       "\n",
       "    .dataframe thead th {\n",
       "        text-align: right;\n",
       "    }\n",
       "</style>\n",
       "<table border=\"1\" class=\"dataframe\">\n",
       "  <thead>\n",
       "    <tr style=\"text-align: right;\">\n",
       "      <th></th>\n",
       "      <th>flux</th>\n",
       "      <th>z</th>\n",
       "      <th>f</th>\n",
       "      <th>enz</th>\n",
       "      <th>met_concentration</th>\n",
       "      <th>reaction</th>\n",
       "      <th>gpr</th>\n",
       "    </tr>\n",
       "  </thead>\n",
       "  <tbody>\n",
       "    <tr>\n",
       "      <th>GAPD</th>\n",
       "      <td>17.110492</td>\n",
       "      <td>1.0</td>\n",
       "      <td>-14.57128</td>\n",
       "      <td>0.001443</td>\n",
       "      <td>;g3p_c : 0.0019372800476507063;pi_c : 4.999999...</td>\n",
       "      <td>g3p_c + nad_c + pi_c --&gt; 13dpg_c + h_c + nadh_c</td>\n",
       "      <td>b1779</td>\n",
       "    </tr>\n",
       "    <tr>\n",
       "      <th>TPI</th>\n",
       "      <td>8.150345</td>\n",
       "      <td>1.0</td>\n",
       "      <td>-14.57128</td>\n",
       "      <td>0.000014</td>\n",
       "      <td>;dhap_c : 5.74937878586431e-05;g3p_c : 0.00193...</td>\n",
       "      <td>dhap_c --&gt; g3p_c</td>\n",
       "      <td>b3919</td>\n",
       "    </tr>\n",
       "    <tr>\n",
       "      <th>MDH</th>\n",
       "      <td>3.448829</td>\n",
       "      <td>1.0</td>\n",
       "      <td>-14.57128</td>\n",
       "      <td>0.000060</td>\n",
       "      <td>;oaa_c : 0.0013300845862784436;h_c : 1.0;mal__...</td>\n",
       "      <td>mal__L_c + nad_c --&gt; h_c + nadh_c + oaa_c</td>\n",
       "      <td>b3236</td>\n",
       "    </tr>\n",
       "    <tr>\n",
       "      <th>TKT1</th>\n",
       "      <td>0.948329</td>\n",
       "      <td>1.0</td>\n",
       "      <td>-14.57128</td>\n",
       "      <td>0.000374</td>\n",
       "      <td>;g3p_c : 0.0019372800476507063;r5p_c : 4.99999...</td>\n",
       "      <td>r5p_c + xu5p__D_c --&gt; g3p_c + s7p_c</td>\n",
       "      <td>b2935 or b2465</td>\n",
       "    </tr>\n",
       "    <tr>\n",
       "      <th>PRPPS</th>\n",
       "      <td>0.695854</td>\n",
       "      <td>1.0</td>\n",
       "      <td>-14.57128</td>\n",
       "      <td>0.000827</td>\n",
       "      <td>;h_c : 1.0;prpp_c : 0.0012362301025760926;amp_...</td>\n",
       "      <td>atp_c + r5p_c --&gt; amp_c + h_c + prpp_c</td>\n",
       "      <td>b1207</td>\n",
       "    </tr>\n",
       "    <tr>\n",
       "      <th>CBMKr</th>\n",
       "      <td>0.467152</td>\n",
       "      <td>1.0</td>\n",
       "      <td>-14.57128</td>\n",
       "      <td>0.000399</td>\n",
       "      <td>;h_c : 1.0;co2_c : 1.3922614394250121e-05;atp_...</td>\n",
       "      <td>atp_c + co2_c + nh4_c --&gt; adp_c + cbp_c + 2.0 h_c</td>\n",
       "      <td>b0521</td>\n",
       "    </tr>\n",
       "    <tr>\n",
       "      <th>IPMD</th>\n",
       "      <td>0.335893</td>\n",
       "      <td>1.0</td>\n",
       "      <td>-14.57128</td>\n",
       "      <td>0.000752</td>\n",
       "      <td>;3c4mop_c : 0.009661213454617063;h_c : 1.0;nad...</td>\n",
       "      <td>3c2hmp_c + nad_c --&gt; 3c4mop_c + h_c + nadh_c</td>\n",
       "      <td>b0073 or b1800</td>\n",
       "    </tr>\n",
       "    <tr>\n",
       "      <th>DHQTi</th>\n",
       "      <td>0.284143</td>\n",
       "      <td>1.0</td>\n",
       "      <td>-14.57128</td>\n",
       "      <td>0.000037</td>\n",
       "      <td>;3dhsk_c : 0.001109745272374513;h2o_c : 1.0;3d...</td>\n",
       "      <td>3dhq_c --&gt; 3dhsk_c + h2o_c</td>\n",
       "      <td>b1693</td>\n",
       "    </tr>\n",
       "    <tr>\n",
       "      <th>ACACT5r</th>\n",
       "      <td>0.265326</td>\n",
       "      <td>1.0</td>\n",
       "      <td>-14.57128</td>\n",
       "      <td>0.000221</td>\n",
       "      <td>;3oddcoa_c : 1.770996265282406e-05;accoa_c : 0...</td>\n",
       "      <td>accoa_c + dcacoa_c --&gt; 3oddcoa_c + coa_c</td>\n",
       "      <td>b3845 or b2342</td>\n",
       "    </tr>\n",
       "    <tr>\n",
       "      <th>ACACT4r</th>\n",
       "      <td>0.265326</td>\n",
       "      <td>1.0</td>\n",
       "      <td>-14.57128</td>\n",
       "      <td>0.000258</td>\n",
       "      <td>;3odcoa_c : 1.913801709758091e-05;accoa_c : 0....</td>\n",
       "      <td>accoa_c + occoa_c --&gt; 3odcoa_c + coa_c</td>\n",
       "      <td>b2342 or b3845</td>\n",
       "    </tr>\n",
       "  </tbody>\n",
       "</table>\n",
       "</div>"
      ],
      "text/plain": [
       "              flux    z         f       enz  \\\n",
       "GAPD     17.110492  1.0 -14.57128  0.001443   \n",
       "TPI       8.150345  1.0 -14.57128  0.000014   \n",
       "MDH       3.448829  1.0 -14.57128  0.000060   \n",
       "TKT1      0.948329  1.0 -14.57128  0.000374   \n",
       "PRPPS     0.695854  1.0 -14.57128  0.000827   \n",
       "CBMKr     0.467152  1.0 -14.57128  0.000399   \n",
       "IPMD      0.335893  1.0 -14.57128  0.000752   \n",
       "DHQTi     0.284143  1.0 -14.57128  0.000037   \n",
       "ACACT5r   0.265326  1.0 -14.57128  0.000221   \n",
       "ACACT4r   0.265326  1.0 -14.57128  0.000258   \n",
       "\n",
       "                                         met_concentration  \\\n",
       "GAPD     ;g3p_c : 0.0019372800476507063;pi_c : 4.999999...   \n",
       "TPI      ;dhap_c : 5.74937878586431e-05;g3p_c : 0.00193...   \n",
       "MDH      ;oaa_c : 0.0013300845862784436;h_c : 1.0;mal__...   \n",
       "TKT1     ;g3p_c : 0.0019372800476507063;r5p_c : 4.99999...   \n",
       "PRPPS    ;h_c : 1.0;prpp_c : 0.0012362301025760926;amp_...   \n",
       "CBMKr    ;h_c : 1.0;co2_c : 1.3922614394250121e-05;atp_...   \n",
       "IPMD     ;3c4mop_c : 0.009661213454617063;h_c : 1.0;nad...   \n",
       "DHQTi    ;3dhsk_c : 0.001109745272374513;h2o_c : 1.0;3d...   \n",
       "ACACT5r  ;3oddcoa_c : 1.770996265282406e-05;accoa_c : 0...   \n",
       "ACACT4r  ;3odcoa_c : 1.913801709758091e-05;accoa_c : 0....   \n",
       "\n",
       "                                                  reaction             gpr  \n",
       "GAPD       g3p_c + nad_c + pi_c --> 13dpg_c + h_c + nadh_c           b1779  \n",
       "TPI                                       dhap_c --> g3p_c           b3919  \n",
       "MDH              mal__L_c + nad_c --> h_c + nadh_c + oaa_c           b3236  \n",
       "TKT1                   r5p_c + xu5p__D_c --> g3p_c + s7p_c  b2935 or b2465  \n",
       "PRPPS               atp_c + r5p_c --> amp_c + h_c + prpp_c           b1207  \n",
       "CBMKr    atp_c + co2_c + nh4_c --> adp_c + cbp_c + 2.0 h_c           b0521  \n",
       "IPMD          3c2hmp_c + nad_c --> 3c4mop_c + h_c + nadh_c  b0073 or b1800  \n",
       "DHQTi                           3dhq_c --> 3dhsk_c + h2o_c           b1693  \n",
       "ACACT5r           accoa_c + dcacoa_c --> 3oddcoa_c + coa_c  b3845 or b2342  \n",
       "ACACT4r             accoa_c + occoa_c --> 3odcoa_c + coa_c  b2342 or b3845  "
      ]
     },
     "execution_count": 73,
     "metadata": {},
     "output_type": "execute_result"
    }
   ],
   "source": [
    "use_result_tmp=use_result[use_result['f']>-1249]\n",
    "use_result_select=use_result_tmp[abs(use_result_tmp['f']-B_value)<= 1e-5]\n",
    "use_result_select.head(10)"
   ]
  },
  {
   "cell_type": "code",
   "execution_count": 74,
   "metadata": {},
   "outputs": [],
   "source": [
    "path_reac_list=list(use_result_select.index)"
   ]
  },
  {
   "cell_type": "markdown",
   "metadata": {},
   "source": [
    "# 7.Determination of bottleneck reaction\n",
    "Calculate the maximum thermodynamic driving force for reactions in above list, if the value is still equal to B, it is the bottleneck reaction."
   ]
  },
  {
   "cell_type": "code",
   "execution_count": 75,
   "metadata": {
    "tags": []
   },
   "outputs": [
    {
     "name": "stdout",
     "output_type": "stream",
     "text": [
      "0:00:21.014734\n"
     ]
    }
   ],
   "source": [
    "import pandas as pd\n",
    "import numpy as np\n",
    "import datetime\n",
    "from pyomo.environ import *\n",
    "from pyomo.opt import SolverFactory\n",
    "import pyomo.environ as pyo\n",
    "from concurrent.futures import ProcessPoolExecutor, as_completed\n",
    "starttime = datetime.datetime.now()\n",
    "max_min_Df_list_fixed=pd.DataFrame()\n",
    "\n",
    "with ProcessPoolExecutor() as executor:\n",
    "    futures = {executor.submit(Get_Max_Min_Df_Complete,Concretemodel_Need_Data,eachreaction,'maximize',K_value,B_value,max_product_under_mdf,\\\n",
    "                               product_id,E_total,substrate_name,substrate_value,'gurobi'): eachreaction for eachreaction in path_reac_list}\n",
    "    for future in as_completed(futures):\n",
    "        tmp = future.result()\n",
    "        for eachindex in tmp.index:\n",
    "            #print(eachindex,tmp.loc[eachindex,'max_value'])\n",
    "            max_min_Df_list_fixed.loc[eachindex,'max_Df_complete']=tmp.loc[eachindex,'max_value']\n",
    "\n",
    "endtime = datetime.datetime.now()\n",
    "print (endtime - starttime)\n",
    "max_min_Df_list_fixed.to_csv('./Analysis Result/Biomass/max_min_Df_complete_for_specific_reaction_3.csv', sep=',', header=True, index=True,mode='w')"
   ]
  },
  {
   "cell_type": "code",
   "execution_count": 76,
   "metadata": {},
   "outputs": [
    {
     "data": {
      "text/html": [
       "<div>\n",
       "<style scoped>\n",
       "    .dataframe tbody tr th:only-of-type {\n",
       "        vertical-align: middle;\n",
       "    }\n",
       "\n",
       "    .dataframe tbody tr th {\n",
       "        vertical-align: top;\n",
       "    }\n",
       "\n",
       "    .dataframe thead th {\n",
       "        text-align: right;\n",
       "    }\n",
       "</style>\n",
       "<table border=\"1\" class=\"dataframe\">\n",
       "  <thead>\n",
       "    <tr style=\"text-align: right;\">\n",
       "      <th></th>\n",
       "      <th>max_Df_complete</th>\n",
       "    </tr>\n",
       "  </thead>\n",
       "  <tbody>\n",
       "    <tr>\n",
       "      <th>DXYLTD_reverse</th>\n",
       "      <td>-14.571279</td>\n",
       "    </tr>\n",
       "    <tr>\n",
       "      <th>CBMKr</th>\n",
       "      <td>-9.486380</td>\n",
       "    </tr>\n",
       "    <tr>\n",
       "      <th>2DDARAA_reverse</th>\n",
       "      <td>4.310894</td>\n",
       "    </tr>\n",
       "    <tr>\n",
       "      <th>MDH</th>\n",
       "      <td>5.767088</td>\n",
       "    </tr>\n",
       "    <tr>\n",
       "      <th>GLU5K</th>\n",
       "      <td>6.467088</td>\n",
       "    </tr>\n",
       "    <tr>\n",
       "      <th>PDX5PO2</th>\n",
       "      <td>10.767088</td>\n",
       "    </tr>\n",
       "    <tr>\n",
       "      <th>IPMD</th>\n",
       "      <td>15.467088</td>\n",
       "    </tr>\n",
       "    <tr>\n",
       "      <th>GAPD</th>\n",
       "      <td>18.777981</td>\n",
       "    </tr>\n",
       "    <tr>\n",
       "      <th>DHORTS_reverse</th>\n",
       "      <td>20.828721</td>\n",
       "    </tr>\n",
       "    <tr>\n",
       "      <th>TPI</th>\n",
       "      <td>21.828721</td>\n",
       "    </tr>\n",
       "    <tr>\n",
       "      <th>ACACT5r</th>\n",
       "      <td>21.957442</td>\n",
       "    </tr>\n",
       "    <tr>\n",
       "      <th>ACACT7r</th>\n",
       "      <td>22.157442</td>\n",
       "    </tr>\n",
       "    <tr>\n",
       "      <th>ACACT6r</th>\n",
       "      <td>22.157442</td>\n",
       "    </tr>\n",
       "    <tr>\n",
       "      <th>ACACT4r</th>\n",
       "      <td>22.157442</td>\n",
       "    </tr>\n",
       "    <tr>\n",
       "      <th>CTECOAI7_reverse</th>\n",
       "      <td>27.328721</td>\n",
       "    </tr>\n",
       "    <tr>\n",
       "      <th>DHQTi</th>\n",
       "      <td>32.628721</td>\n",
       "    </tr>\n",
       "    <tr>\n",
       "      <th>PRPPS</th>\n",
       "      <td>32.907088</td>\n",
       "    </tr>\n",
       "    <tr>\n",
       "      <th>FLDR2</th>\n",
       "      <td>44.995809</td>\n",
       "    </tr>\n",
       "    <tr>\n",
       "      <th>TKT1</th>\n",
       "      <td>58.457442</td>\n",
       "    </tr>\n",
       "  </tbody>\n",
       "</table>\n",
       "</div>"
      ],
      "text/plain": [
       "                  max_Df_complete\n",
       "DXYLTD_reverse         -14.571279\n",
       "CBMKr                   -9.486380\n",
       "2DDARAA_reverse          4.310894\n",
       "MDH                      5.767088\n",
       "GLU5K                    6.467088\n",
       "PDX5PO2                 10.767088\n",
       "IPMD                    15.467088\n",
       "GAPD                    18.777981\n",
       "DHORTS_reverse          20.828721\n",
       "TPI                     21.828721\n",
       "ACACT5r                 21.957442\n",
       "ACACT7r                 22.157442\n",
       "ACACT6r                 22.157442\n",
       "ACACT4r                 22.157442\n",
       "CTECOAI7_reverse        27.328721\n",
       "DHQTi                   32.628721\n",
       "PRPPS                   32.907088\n",
       "FLDR2                   44.995809\n",
       "TKT1                    58.457442"
      ]
     },
     "execution_count": 76,
     "metadata": {},
     "output_type": "execute_result"
    }
   ],
   "source": [
    "max_min_Df_list_fixed=max_min_Df_list_fixed.sort_values(by='max_Df_complete',ascending = True)\n",
    "max_min_Df_list_fixed.head(100)"
   ]
  },
  {
   "cell_type": "code",
   "execution_count": 77,
   "metadata": {
    "scrolled": true
   },
   "outputs": [
    {
     "data": {
      "text/html": [
       "<div>\n",
       "<style scoped>\n",
       "    .dataframe tbody tr th:only-of-type {\n",
       "        vertical-align: middle;\n",
       "    }\n",
       "\n",
       "    .dataframe tbody tr th {\n",
       "        vertical-align: top;\n",
       "    }\n",
       "\n",
       "    .dataframe thead th {\n",
       "        text-align: right;\n",
       "    }\n",
       "</style>\n",
       "<table border=\"1\" class=\"dataframe\">\n",
       "  <thead>\n",
       "    <tr style=\"text-align: right;\">\n",
       "      <th></th>\n",
       "      <th>max_Df_complete</th>\n",
       "    </tr>\n",
       "  </thead>\n",
       "  <tbody>\n",
       "    <tr>\n",
       "      <th>DXYLTD_reverse</th>\n",
       "      <td>-14.571279</td>\n",
       "    </tr>\n",
       "  </tbody>\n",
       "</table>\n",
       "</div>"
      ],
      "text/plain": [
       "                max_Df_complete\n",
       "DXYLTD_reverse       -14.571279"
      ]
     },
     "execution_count": 77,
     "metadata": {},
     "output_type": "execute_result"
    }
   ],
   "source": [
    "Bottleneck_reaction=max_min_Df_list_fixed[(max_min_Df_list_fixed['max_Df_complete']-B_value)<=0.001]\n",
    "Bottleneck_reaction"
   ]
  },
  {
   "cell_type": "code",
   "execution_count": 78,
   "metadata": {},
   "outputs": [
    {
     "data": {
      "text/plain": [
       "';2ddara_c : 0.019999992253620126;dxylnt_c : 4.999999992621096e-07;h2o_c : 1.0'"
      ]
     },
     "execution_count": 78,
     "metadata": {},
     "output_type": "execute_result"
    }
   ],
   "source": [
    "use_result_select.loc[Bottleneck_reaction.index[0],'met_concentration']"
   ]
  },
  {
   "cell_type": "markdown",
   "metadata": {},
   "source": [
    "# 8.List extraction of candidate limiting metabolites\n",
    "Standard: involved in bottleneck reactions, except fo water (h2o_c) and protons (h_c)."
   ]
  },
  {
   "cell_type": "code",
   "execution_count": 79,
   "metadata": {
    "tags": []
   },
   "outputs": [
    {
     "data": {
      "text/plain": [
       "['dxylnt_c', '2ddara_c']"
      ]
     },
     "execution_count": 79,
     "metadata": {},
     "output_type": "execute_result"
    }
   ],
   "source": [
    "Bottleneck_reaction_lsit=list(Bottleneck_reaction.index)\n",
    "Bottleneck_reaction_met=[]\n",
    "for rea in model.reactions:\n",
    "    if rea.id in Bottleneck_reaction_lsit:\n",
    "        #print(rea)\n",
    "        for met in model.metabolites:\n",
    "            try:\n",
    "                rea.get_coefficient(met.id)  \n",
    "            except:\n",
    "                pass\n",
    "            else:\n",
    "                if met.id !='h_c' and met.id !='h2o_c':\n",
    "                    Bottleneck_reaction_met.append(met.id)\n",
    "                \n",
    "\n",
    "Bottleneck_reaction_met=list(set(Bottleneck_reaction_met))\n",
    "Bottleneck_reaction_met"
   ]
  },
  {
   "cell_type": "markdown",
   "metadata": {},
   "source": [
    "# 9.Determination of limitting metabolites\n",
    "Calculate the maximum and minimum concentrations for metabolites in above list, if the two values are equal, it is the limiting metabolite."
   ]
  },
  {
   "cell_type": "code",
   "execution_count": 80,
   "metadata": {
    "tags": []
   },
   "outputs": [
    {
     "name": "stdout",
     "output_type": "stream",
     "text": [
      "0:00:10.897105\n"
     ]
    }
   ],
   "source": [
    "import pandas as pd\n",
    "import numpy as np\n",
    "import datetime\n",
    "from pyomo.environ import *\n",
    "from pyomo.opt import SolverFactory\n",
    "import pyomo.environ as pyo\n",
    "from concurrent.futures import ProcessPoolExecutor, as_completed\n",
    "starttime = datetime.datetime.now()\n",
    "max_min_concentration_list_fixed = pd.DataFrame()\n",
    "\n",
    "with ProcessPoolExecutor() as executor:\n",
    "    futures = {executor.submit(Get_Max_Min_Met_Concentration,Concretemodel_Need_Data,eachmet,'maximize',K_value,B_value,\\\n",
    "        max_product_under_mdf,product_id,E_total,substrate_name,substrate_value,list(Bottleneck_reaction.index),'gurobi'): eachmet for eachmet in Bottleneck_reaction_met}\n",
    "    for future in as_completed(futures):\n",
    "        tmp = future.result()\n",
    "        for eachindex in tmp.index:\n",
    "            #print(eachindex,tmp.loc[eachindex,'max_value'])\n",
    "            max_min_concentration_list_fixed.loc[eachindex,'max_concentration'] = tmp.loc[eachindex,'max_value']\n",
    "\n",
    "with ProcessPoolExecutor() as executor:\n",
    "    futures = {executor.submit(Get_Max_Min_Met_Concentration,Concretemodel_Need_Data,eachmet,'minimize',K_value,B_value,\\\n",
    "        max_product_under_mdf,product_id,E_total,substrate_name,substrate_value,list(Bottleneck_reaction.index),'gurobi'): eachmet for eachmet in Bottleneck_reaction_met}\n",
    "    for future in as_completed(futures):\n",
    "        tmp = future.result()\n",
    "        for eachindex in tmp.index:\n",
    "            #print(eachindex,tmp.loc[eachindex,'max_value'])\n",
    "            max_min_concentration_list_fixed.loc[eachindex,'min_concentration'] = tmp.loc[eachindex,'min_value']\n",
    "            \n",
    "endtime = datetime.datetime.now()\n",
    "print (endtime - starttime)\n",
    "max_min_concentration_list_fixed.to_csv('./Analysis Result/Biomass/max_min_concentration_for_specific_metabolite_3.csv', sep=',', header=True, index=True,mode='w')\n"
   ]
  },
  {
   "cell_type": "code",
   "execution_count": 81,
   "metadata": {},
   "outputs": [
    {
     "data": {
      "text/html": [
       "<div>\n",
       "<style scoped>\n",
       "    .dataframe tbody tr th:only-of-type {\n",
       "        vertical-align: middle;\n",
       "    }\n",
       "\n",
       "    .dataframe tbody tr th {\n",
       "        vertical-align: top;\n",
       "    }\n",
       "\n",
       "    .dataframe thead th {\n",
       "        text-align: right;\n",
       "    }\n",
       "</style>\n",
       "<table border=\"1\" class=\"dataframe\">\n",
       "  <thead>\n",
       "    <tr style=\"text-align: right;\">\n",
       "      <th></th>\n",
       "      <th>max_concentration</th>\n",
       "      <th>min_concentration</th>\n",
       "    </tr>\n",
       "  </thead>\n",
       "  <tbody>\n",
       "    <tr>\n",
       "      <th>dxylnt_c</th>\n",
       "      <td>-14.508657</td>\n",
       "      <td>-14.508658</td>\n",
       "    </tr>\n",
       "    <tr>\n",
       "      <th>2ddara_c</th>\n",
       "      <td>-3.912023</td>\n",
       "      <td>-3.912023</td>\n",
       "    </tr>\n",
       "  </tbody>\n",
       "</table>\n",
       "</div>"
      ],
      "text/plain": [
       "          max_concentration  min_concentration\n",
       "dxylnt_c         -14.508657         -14.508658\n",
       "2ddara_c          -3.912023          -3.912023"
      ]
     },
     "execution_count": 81,
     "metadata": {},
     "output_type": "execute_result"
    }
   ],
   "source": [
    "max_min_concentration_list_fixed"
   ]
  },
  {
   "cell_type": "code",
   "execution_count": 82,
   "metadata": {},
   "outputs": [
    {
     "data": {
      "text/html": [
       "<div>\n",
       "<style scoped>\n",
       "    .dataframe tbody tr th:only-of-type {\n",
       "        vertical-align: middle;\n",
       "    }\n",
       "\n",
       "    .dataframe tbody tr th {\n",
       "        vertical-align: top;\n",
       "    }\n",
       "\n",
       "    .dataframe thead th {\n",
       "        text-align: right;\n",
       "    }\n",
       "</style>\n",
       "<table border=\"1\" class=\"dataframe\">\n",
       "  <thead>\n",
       "    <tr style=\"text-align: right;\">\n",
       "      <th></th>\n",
       "      <th>max_concentration</th>\n",
       "      <th>min_concentration</th>\n",
       "    </tr>\n",
       "  </thead>\n",
       "  <tbody>\n",
       "    <tr>\n",
       "      <th>dxylnt_c</th>\n",
       "      <td>-14.508657</td>\n",
       "      <td>-14.508658</td>\n",
       "    </tr>\n",
       "    <tr>\n",
       "      <th>2ddara_c</th>\n",
       "      <td>-3.912023</td>\n",
       "      <td>-3.912023</td>\n",
       "    </tr>\n",
       "  </tbody>\n",
       "</table>\n",
       "</div>"
      ],
      "text/plain": [
       "          max_concentration  min_concentration\n",
       "dxylnt_c         -14.508657         -14.508658\n",
       "2ddara_c          -3.912023          -3.912023"
      ]
     },
     "execution_count": 82,
     "metadata": {},
     "output_type": "execute_result"
    }
   ],
   "source": [
    "Limiting_metabolite = max_min_concentration_list_fixed[(max_min_concentration_list_fixed['max_concentration'] - max_min_concentration_list_fixed['min_concentration']) <= 0.001]\n",
    "Limiting_metabolite"
   ]
  },
  {
   "cell_type": "markdown",
   "metadata": {},
   "source": [
    "# 10.List extraction of candidate key enzymes\n",
    "Standard: The amount of enzyme usage was more than 0.0015 mg/gDW （above 1% of e_pool）"
   ]
  },
  {
   "cell_type": "code",
   "execution_count": 83,
   "metadata": {
    "scrolled": true
   },
   "outputs": [
    {
     "data": {
      "text/html": [
       "<div>\n",
       "<style scoped>\n",
       "    .dataframe tbody tr th:only-of-type {\n",
       "        vertical-align: middle;\n",
       "    }\n",
       "\n",
       "    .dataframe tbody tr th {\n",
       "        vertical-align: top;\n",
       "    }\n",
       "\n",
       "    .dataframe thead th {\n",
       "        text-align: right;\n",
       "    }\n",
       "</style>\n",
       "<table border=\"1\" class=\"dataframe\">\n",
       "  <thead>\n",
       "    <tr style=\"text-align: right;\">\n",
       "      <th></th>\n",
       "      <th>flux</th>\n",
       "      <th>z</th>\n",
       "      <th>f</th>\n",
       "      <th>enz</th>\n",
       "      <th>met_concentration</th>\n",
       "      <th>reaction</th>\n",
       "      <th>gpr</th>\n",
       "    </tr>\n",
       "  </thead>\n",
       "  <tbody>\n",
       "    <tr>\n",
       "      <th>NADH16pp</th>\n",
       "      <td>31.351785</td>\n",
       "      <td>1.0</td>\n",
       "      <td>-9.999000e+03</td>\n",
       "      <td>0.024198</td>\n",
       "      <td>;h_c : 1.0;nadh_c : 0.0007084583731630467;h_p ...</td>\n",
       "      <td>4.0 h_c + nadh_c + q8_c --&gt; 3.0 h_p + nad_c + ...</td>\n",
       "      <td>b2280 and b2281 and b2287 and b2288 and b2282 ...</td>\n",
       "    </tr>\n",
       "    <tr>\n",
       "      <th>FBA</th>\n",
       "      <td>8.255695</td>\n",
       "      <td>1.0</td>\n",
       "      <td>-7.412169e+00</td>\n",
       "      <td>0.008402</td>\n",
       "      <td>;g3p_c : 0.0019372800476507063;dhap_c : 5.7493...</td>\n",
       "      <td>fdp_c --&gt; dhap_c + g3p_c</td>\n",
       "      <td>b2925 or b2097</td>\n",
       "    </tr>\n",
       "    <tr>\n",
       "      <th>KARA2</th>\n",
       "      <td>0.216604</td>\n",
       "      <td>1.0</td>\n",
       "      <td>2.011657e+01</td>\n",
       "      <td>0.004338</td>\n",
       "      <td>;2ahbut_c : 0.0011251874271059493;nadp_c : 0.0...</td>\n",
       "      <td>2ahbut_c + h_c + nadph_c --&gt; 23dhmp_c + nadp_c</td>\n",
       "      <td>b3774</td>\n",
       "    </tr>\n",
       "    <tr>\n",
       "      <th>KARA1_reverse</th>\n",
       "      <td>0.651884</td>\n",
       "      <td>1.0</td>\n",
       "      <td>-3.552714e-15</td>\n",
       "      <td>0.004257</td>\n",
       "      <td>;alac__S_c : 4.999999992621096e-07;nadp_c : 0....</td>\n",
       "      <td>alac__S_c + h_c + nadph_c --&gt; 23dhmb_c + nadp_c</td>\n",
       "      <td>b3774</td>\n",
       "    </tr>\n",
       "    <tr>\n",
       "      <th>GHMT2r</th>\n",
       "      <td>0.790937</td>\n",
       "      <td>1.0</td>\n",
       "      <td>1.457128e+01</td>\n",
       "      <td>0.003111</td>\n",
       "      <td>;mlthf_c : 0.002311008755908189;h2o_c : 1.0;gl...</td>\n",
       "      <td>ser__L_c + thf_c --&gt; gly_c + h2o_c + mlthf_c</td>\n",
       "      <td>b2551</td>\n",
       "    </tr>\n",
       "    <tr>\n",
       "      <th>SHGO</th>\n",
       "      <td>1.282362</td>\n",
       "      <td>1.0</td>\n",
       "      <td>1.134713e+02</td>\n",
       "      <td>0.002643</td>\n",
       "      <td>;akg_c : 4.999999992621096e-07;o2_c : 4.999999...</td>\n",
       "      <td>S2hglut_c + o2_c --&gt; akg_c + h2o2_c</td>\n",
       "      <td>b2660</td>\n",
       "    </tr>\n",
       "    <tr>\n",
       "      <th>CYTBO3_4pp</th>\n",
       "      <td>34.269712</td>\n",
       "      <td>1.0</td>\n",
       "      <td>-9.999000e+03</td>\n",
       "      <td>0.002403</td>\n",
       "      <td>;h_c : 1.0;h2o_c : 1.0;h_p : 1.0;q8h2_c : 4.99...</td>\n",
       "      <td>4.0 h_c + 0.5 o2_c + q8h2_c --&gt; h2o_c + 4.0 h_...</td>\n",
       "      <td>b0429 and b0432 and b0431 and b0430</td>\n",
       "    </tr>\n",
       "    <tr>\n",
       "      <th>GND</th>\n",
       "      <td>3.286375</td>\n",
       "      <td>1.0</td>\n",
       "      <td>2.785744e+01</td>\n",
       "      <td>0.002136</td>\n",
       "      <td>;nadp_c : 0.0020000000008562916;6pgc_c : 0.020...</td>\n",
       "      <td>6pgc_c + nadp_c --&gt; co2_c + nadph_c + ru5p__D_c</td>\n",
       "      <td>b2029</td>\n",
       "    </tr>\n",
       "    <tr>\n",
       "      <th>SERA</th>\n",
       "      <td>1.282362</td>\n",
       "      <td>1.0</td>\n",
       "      <td>2.861609e-01</td>\n",
       "      <td>0.001985</td>\n",
       "      <td>;akg_c : 4.999999992621096e-07;3pg_c : 0.02000...</td>\n",
       "      <td>3pg_c + akg_c --&gt; 3php_c + S2hglut_c</td>\n",
       "      <td>NaN</td>\n",
       "    </tr>\n",
       "    <tr>\n",
       "      <th>AKGDH</th>\n",
       "      <td>2.671376</td>\n",
       "      <td>1.0</td>\n",
       "      <td>2.455891e+01</td>\n",
       "      <td>0.001976</td>\n",
       "      <td>;co2_c : 1.3922614394250121e-05;coa_c : 4.9999...</td>\n",
       "      <td>akg_c + coa_c + nad_c --&gt; co2_c + nadh_c + suc...</td>\n",
       "      <td>b0116 and b0727 and b0726</td>\n",
       "    </tr>\n",
       "  </tbody>\n",
       "</table>\n",
       "</div>"
      ],
      "text/plain": [
       "                    flux    z             f       enz  \\\n",
       "NADH16pp       31.351785  1.0 -9.999000e+03  0.024198   \n",
       "FBA             8.255695  1.0 -7.412169e+00  0.008402   \n",
       "KARA2           0.216604  1.0  2.011657e+01  0.004338   \n",
       "KARA1_reverse   0.651884  1.0 -3.552714e-15  0.004257   \n",
       "GHMT2r          0.790937  1.0  1.457128e+01  0.003111   \n",
       "SHGO            1.282362  1.0  1.134713e+02  0.002643   \n",
       "CYTBO3_4pp     34.269712  1.0 -9.999000e+03  0.002403   \n",
       "GND             3.286375  1.0  2.785744e+01  0.002136   \n",
       "SERA            1.282362  1.0  2.861609e-01  0.001985   \n",
       "AKGDH           2.671376  1.0  2.455891e+01  0.001976   \n",
       "\n",
       "                                               met_concentration  \\\n",
       "NADH16pp       ;h_c : 1.0;nadh_c : 0.0007084583731630467;h_p ...   \n",
       "FBA            ;g3p_c : 0.0019372800476507063;dhap_c : 5.7493...   \n",
       "KARA2          ;2ahbut_c : 0.0011251874271059493;nadp_c : 0.0...   \n",
       "KARA1_reverse  ;alac__S_c : 4.999999992621096e-07;nadp_c : 0....   \n",
       "GHMT2r         ;mlthf_c : 0.002311008755908189;h2o_c : 1.0;gl...   \n",
       "SHGO           ;akg_c : 4.999999992621096e-07;o2_c : 4.999999...   \n",
       "CYTBO3_4pp     ;h_c : 1.0;h2o_c : 1.0;h_p : 1.0;q8h2_c : 4.99...   \n",
       "GND            ;nadp_c : 0.0020000000008562916;6pgc_c : 0.020...   \n",
       "SERA           ;akg_c : 4.999999992621096e-07;3pg_c : 0.02000...   \n",
       "AKGDH          ;co2_c : 1.3922614394250121e-05;coa_c : 4.9999...   \n",
       "\n",
       "                                                        reaction  \\\n",
       "NADH16pp       4.0 h_c + nadh_c + q8_c --> 3.0 h_p + nad_c + ...   \n",
       "FBA                                     fdp_c --> dhap_c + g3p_c   \n",
       "KARA2             2ahbut_c + h_c + nadph_c --> 23dhmp_c + nadp_c   \n",
       "KARA1_reverse    alac__S_c + h_c + nadph_c --> 23dhmb_c + nadp_c   \n",
       "GHMT2r              ser__L_c + thf_c --> gly_c + h2o_c + mlthf_c   \n",
       "SHGO                         S2hglut_c + o2_c --> akg_c + h2o2_c   \n",
       "CYTBO3_4pp     4.0 h_c + 0.5 o2_c + q8h2_c --> h2o_c + 4.0 h_...   \n",
       "GND              6pgc_c + nadp_c --> co2_c + nadph_c + ru5p__D_c   \n",
       "SERA                        3pg_c + akg_c --> 3php_c + S2hglut_c   \n",
       "AKGDH          akg_c + coa_c + nad_c --> co2_c + nadh_c + suc...   \n",
       "\n",
       "                                                             gpr  \n",
       "NADH16pp       b2280 and b2281 and b2287 and b2288 and b2282 ...  \n",
       "FBA                                               b2925 or b2097  \n",
       "KARA2                                                      b3774  \n",
       "KARA1_reverse                                              b3774  \n",
       "GHMT2r                                                     b2551  \n",
       "SHGO                                                       b2660  \n",
       "CYTBO3_4pp                   b0429 and b0432 and b0431 and b0430  \n",
       "GND                                                        b2029  \n",
       "SERA                                                         NaN  \n",
       "AKGDH                                  b0116 and b0727 and b0726  "
      ]
     },
     "execution_count": 83,
     "metadata": {},
     "output_type": "execute_result"
    }
   ],
   "source": [
    "step5_file = pd.read_csv('./Analysis Result/Biomass/' + 'glc10_' + str(round(max_product_under_mdf,3)) + '_' + str(round(B_value,3)) + '_' + str(round(min_E,3)) + '_pathway_3.csv',index_col=0)\n",
    "step5_file_sort = step5_file.sort_values(by='enz',ascending = False)\n",
    "step5_file_sort.head(10)"
   ]
  },
  {
   "cell_type": "code",
   "execution_count": 84,
   "metadata": {},
   "outputs": [],
   "source": [
    "enz_use_reaction_list = list(step5_file_sort[step5_file_sort['enz'] > 0.0000013].index)\n",
    "#enz_use_reaction_list"
   ]
  },
  {
   "cell_type": "markdown",
   "metadata": {},
   "source": [
    "# 11.Determination of key enzymes.\n",
    "Calculate the minimum enzyme cost for reactions in above list, and the higher the value, the more critical (key) the enzyme."
   ]
  },
  {
   "cell_type": "code",
   "execution_count": 85,
   "metadata": {
    "tags": []
   },
   "outputs": [
    {
     "name": "stdout",
     "output_type": "stream",
     "text": [
      "0:08:01.962289\n"
     ]
    }
   ],
   "source": [
    "import pandas as pd\n",
    "import numpy as np\n",
    "import datetime\n",
    "from pyomo.environ import *\n",
    "from pyomo.opt import SolverFactory\n",
    "import pyomo.environ as pyo\n",
    "from concurrent.futures import ProcessPoolExecutor, as_completed\n",
    "starttime = datetime.datetime.now()\n",
    "max_min_E_list_fixed = pd.DataFrame()\n",
    "\n",
    "with ProcessPoolExecutor() as executor:\n",
    "    futures = {executor.submit(Get_Max_Min_E,Concretemodel_Need_Data,eachreaction,'maximize',K_value,B_value,\\\n",
    "                    max_product_under_mdf,product_id,E_total,substrate_name,substrate_value,'gurobi'): eachreaction for eachreaction in enz_use_reaction_list}\n",
    "    for future in as_completed(futures):\n",
    "        tmp = future.result()\n",
    "        for eachindex in tmp.index:\n",
    "            #print(eachindex,tmp.loc[eachindex,'max_value'])\n",
    "            max_min_E_list_fixed.loc[eachindex,'max_E']=tmp.loc[eachindex,'max_value']\n",
    "\n",
    "with ProcessPoolExecutor() as executor:\n",
    "    futures = {executor.submit(Get_Max_Min_E,Concretemodel_Need_Data,eachreaction,'minimize',K_value,B_value,\\\n",
    "                    max_product_under_mdf,product_id,E_total,substrate_name,substrate_value,'gurobi'): eachreaction for eachreaction in enz_use_reaction_list}\n",
    "    for future in as_completed(futures):\n",
    "        tmp = future.result()\n",
    "        for eachindex in tmp.index:\n",
    "            #print(eachindex,tmp.loc[eachindex,'max_value'])\n",
    "            max_min_E_list_fixed.loc[eachindex,'min_E']=tmp.loc[eachindex,'min_value']\n",
    "endtime = datetime.datetime.now()\n",
    "print (endtime - starttime)\n",
    "max_min_E_list_fixed.to_csv('./Analysis Result/Biomass/max_min_E_3.csv', sep=',', header=True, index=True,mode='w')\n"
   ]
  },
  {
   "cell_type": "code",
   "execution_count": 86,
   "metadata": {},
   "outputs": [
    {
     "data": {
      "text/html": [
       "<div>\n",
       "<style scoped>\n",
       "    .dataframe tbody tr th:only-of-type {\n",
       "        vertical-align: middle;\n",
       "    }\n",
       "\n",
       "    .dataframe tbody tr th {\n",
       "        vertical-align: top;\n",
       "    }\n",
       "\n",
       "    .dataframe thead th {\n",
       "        text-align: right;\n",
       "    }\n",
       "</style>\n",
       "<table border=\"1\" class=\"dataframe\">\n",
       "  <thead>\n",
       "    <tr style=\"text-align: right;\">\n",
       "      <th></th>\n",
       "      <th>max_E</th>\n",
       "      <th>min_E</th>\n",
       "    </tr>\n",
       "  </thead>\n",
       "  <tbody>\n",
       "    <tr>\n",
       "      <th>NADH16pp</th>\n",
       "      <td>0.024198</td>\n",
       "      <td>0.024198</td>\n",
       "    </tr>\n",
       "    <tr>\n",
       "      <th>FBA</th>\n",
       "      <td>0.008402</td>\n",
       "      <td>0.008402</td>\n",
       "    </tr>\n",
       "    <tr>\n",
       "      <th>KARA2</th>\n",
       "      <td>0.004338</td>\n",
       "      <td>0.004338</td>\n",
       "    </tr>\n",
       "    <tr>\n",
       "      <th>KARA1_reverse</th>\n",
       "      <td>0.004257</td>\n",
       "      <td>0.004257</td>\n",
       "    </tr>\n",
       "    <tr>\n",
       "      <th>GHMT2r</th>\n",
       "      <td>0.003111</td>\n",
       "      <td>0.003111</td>\n",
       "    </tr>\n",
       "    <tr>\n",
       "      <th>...</th>\n",
       "      <td>...</td>\n",
       "      <td>...</td>\n",
       "    </tr>\n",
       "    <tr>\n",
       "      <th>FESR</th>\n",
       "      <td>0.000002</td>\n",
       "      <td>0.000002</td>\n",
       "    </tr>\n",
       "    <tr>\n",
       "      <th>ADCL</th>\n",
       "      <td>0.000002</td>\n",
       "      <td>0.000002</td>\n",
       "    </tr>\n",
       "    <tr>\n",
       "      <th>DPR</th>\n",
       "      <td>0.000002</td>\n",
       "      <td>0.000002</td>\n",
       "    </tr>\n",
       "    <tr>\n",
       "      <th>SCYSDS</th>\n",
       "      <td>0.000002</td>\n",
       "      <td>0.000002</td>\n",
       "    </tr>\n",
       "    <tr>\n",
       "      <th>S2FE2SS2</th>\n",
       "      <td>0.000001</td>\n",
       "      <td>0.000001</td>\n",
       "    </tr>\n",
       "  </tbody>\n",
       "</table>\n",
       "<p>329 rows × 2 columns</p>\n",
       "</div>"
      ],
      "text/plain": [
       "                  max_E     min_E\n",
       "NADH16pp       0.024198  0.024198\n",
       "FBA            0.008402  0.008402\n",
       "KARA2          0.004338  0.004338\n",
       "KARA1_reverse  0.004257  0.004257\n",
       "GHMT2r         0.003111  0.003111\n",
       "...                 ...       ...\n",
       "FESR           0.000002  0.000002\n",
       "ADCL           0.000002  0.000002\n",
       "DPR            0.000002  0.000002\n",
       "SCYSDS         0.000002  0.000002\n",
       "S2FE2SS2       0.000001  0.000001\n",
       "\n",
       "[329 rows x 2 columns]"
      ]
     },
     "execution_count": 86,
     "metadata": {},
     "output_type": "execute_result"
    }
   ],
   "source": [
    "max_min_E_list_fixed.sort_values(by='max_E',ascending = False)"
   ]
  },
  {
   "cell_type": "markdown",
   "metadata": {
    "collapsed": true
   },
   "source": [
    "# Congratulations！\n",
    "\n",
    "Now you have completed all the calculations at the first turning point. \n",
    "To obtain all the turning point data, \n",
    "you need to go back to \"1. MDF calculation\" \n",
    "and change the \"product_value=0.1\" to \"product_ Value=0.7125\" (a value slightly larger than the product_value you just calculated), \n",
    "you will get the second turning point data. \n",
    "\n",
    "Note：\n",
    "(1) If the new \"product_value\" is set too high, you may miss some turning point date, but don't worry, the solver gurobi has good differentiation, and a slight increase is the best choice (only add 1‰ or 1% than \"product_value\" of last round often enough).\n",
    "(2) Don't forget to change the suffix of each output file name, such as _1, _2, _3, etc.\n",
    "\n",
    "In the manuscript \"Improving pathway prediction accuracy of constraints-based metabolic network models by treating enzymes as microcompartments\", \n",
    "all the 3 \"product_value\"s used by the authors are: 0.1, 0.7125 and 0.7444, respectively, \n",
    "for reference."
   ]
  },
  {
   "cell_type": "code",
   "execution_count": 1,
   "metadata": {},
   "outputs": [
    {
     "name": "stdout",
     "output_type": "stream",
     "text": [
      "Package             Version  \n",
      "------------------- ---------\n",
      "appdirs             1.4.4    \n",
      "astroid             2.4.2    \n",
      "backcall            0.2.0    \n",
      "certifi             2018.8.24\n",
      "cobra               0.13.3   \n",
      "colorama            0.4.4    \n",
      "cycler              0.10.0   \n",
      "decorator           4.4.2    \n",
      "depinfo             1.5.4    \n",
      "et-xmlfile          1.0.1    \n",
      "future              0.18.2   \n",
      "ipykernel           5.3.4    \n",
      "ipython             7.9.0    \n",
      "ipython-genutils    0.2.0    \n",
      "isort               4.3.21   \n",
      "jdcal               1.4.1    \n",
      "jedi                0.17.2   \n",
      "jupyter-client      6.1.6    \n",
      "jupyter-core        4.6.3    \n",
      "kiwisolver          1.1.0    \n",
      "lazy-object-proxy   1.4.3    \n",
      "matplotlib          3.0.3    \n",
      "mccabe              0.6.1    \n",
      "mpmath              1.1.0    \n",
      "nose                1.3.7    \n",
      "numpy               1.18.5   \n",
      "openpyxl            2.6.4    \n",
      "optlang             1.4.4    \n",
      "pandas              0.25.3   \n",
      "parso               0.7.1    \n",
      "pexpect             4.8.0    \n",
      "pickleshare         0.7.5    \n",
      "pip                 10.0.1   \n",
      "pipdeptree          1.0.0    \n",
      "ply                 3.11     \n",
      "prompt-toolkit      2.0.10   \n",
      "ptyprocess          0.6.0    \n",
      "Pygments            2.6.1    \n",
      "pylint              2.5.3    \n",
      "Pyomo               5.7      \n",
      "pyparsing           2.4.7    \n",
      "python-dateutil     2.8.1    \n",
      "pytz                2020.1   \n",
      "PyUtilib            6.0.0    \n",
      "pywin32             301      \n",
      "pyzmq               20.0.0   \n",
      "ruamel.yaml         0.14.12  \n",
      "setuptools          40.2.0   \n",
      "six                 1.15.0   \n",
      "swiglpk             4.65.1   \n",
      "sympy               1.6.2    \n",
      "tabulate            0.8.7    \n",
      "toml                0.10.1   \n",
      "tornado             6.0.4    \n",
      "traitlets           4.3.3    \n",
      "typed-ast           1.4.1    \n",
      "wcwidth             0.2.5    \n",
      "wheel               0.36.2   \n",
      "win-unicode-console 0.5      \n",
      "wincertstore        0.2      \n",
      "wrapt               1.12.1   \n",
      "Note: you may need to restart the kernel to use updated packages.\n"
     ]
    },
    {
     "name": "stderr",
     "output_type": "stream",
     "text": [
      "You are using pip version 10.0.1, however version 20.3.4 is available.\n",
      "You should consider upgrading via the 'python -m pip install --upgrade pip' command.\n"
     ]
    }
   ],
   "source": [
    "pip list"
   ]
  },
  {
   "cell_type": "code",
   "execution_count": null,
   "metadata": {},
   "outputs": [],
   "source": []
  }
 ],
 "metadata": {
  "kernelspec": {
   "display_name": "ETGEMs",
   "language": "python",
   "name": "etgems"
  },
  "language_info": {
   "codemirror_mode": {
    "name": "ipython",
    "version": 3
   },
   "file_extension": ".py",
   "mimetype": "text/x-python",
   "name": "python",
   "nbconvert_exporter": "python",
   "pygments_lexer": "ipython3",
   "version": "3.5.5"
  }
 },
 "nbformat": 4,
 "nbformat_minor": 2
}
